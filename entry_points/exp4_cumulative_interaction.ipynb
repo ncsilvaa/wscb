{
 "cells": [
  {
   "cell_type": "code",
   "execution_count": 1,
   "metadata": {},
   "outputs": [],
   "source": [
    "# Random\n",
    "# Popular\n",
    "# UCB\n",
    "# TS\n",
    "# e-Greedy\n",
    "# Linear UCB\n",
    "# GLM-UCB\n",
    "# NICF\n",
    "# PTS\n",
    "# ICTRTS\n",
    "# Cluster Bandit\n",
    "# WSCB"
   ]
  },
  {
   "cell_type": "code",
   "execution_count": 16,
   "metadata": {},
   "outputs": [],
   "source": [
    "import numpy as np"
   ]
  },
  {
   "cell_type": "code",
   "execution_count": 2,
   "metadata": {},
   "outputs": [],
   "source": [
    "from irec.environment.loader.full_data import FullData"
   ]
  },
  {
   "cell_type": "code",
   "execution_count": 3,
   "metadata": {},
   "outputs": [
    {
     "name": "stderr",
     "output_type": "stream",
     "text": [
      "2022-08-02 15:53:03.888075: W tensorflow/stream_executor/platform/default/dso_loader.cc:64] Could not load dynamic library 'libcudart.so.11.0'; dlerror: libcudart.so.11.0: cannot open shared object file: No such file or directory\n",
      "2022-08-02 15:53:03.888109: I tensorflow/stream_executor/cuda/cudart_stub.cc:29] Ignore above cudart dlerror if you do not have a GPU set up on your machine.\n"
     ]
    }
   ],
   "source": [
    "from irec.recommendation.agents.simple_agent import SimpleAgent\n",
    "from irec.recommendation.agents.action_selection_policies.egreedy import ASPEGreedy\n",
    "from irec.recommendation.agents.action_selection_policies.greedy import ASPGreedy"
   ]
  },
  {
   "cell_type": "code",
   "execution_count": 4,
   "metadata": {},
   "outputs": [],
   "source": [
    "from irec.recommendation.agents.value_functions import *"
   ]
  },
  {
   "cell_type": "code",
   "execution_count": 22,
   "metadata": {},
   "outputs": [],
   "source": [
    "from irec.offline_experiments.evaluation_policies.fixed_interaction import FixedInteraction\n",
    "from irec.offline_experiments.metric_evaluators.user_cumulative_interaction import UserCumulativeInteraction\n",
    "from irec.offline_experiments.metric_evaluators.stage_iterations import StageIterations\n",
    "from irec.offline_experiments.metrics.hits import Hits"
   ]
  },
  {
   "cell_type": "code",
   "execution_count": 6,
   "metadata": {},
   "outputs": [
    {
     "name": "stdout",
     "output_type": "stream",
     "text": [
      "\n",
      "Applying splitting strategy: temporal\n",
      "\n",
      "Test shape: (16892, 4)\n",
      "Train shape: (83108, 4)\n"
     ]
    }
   ],
   "source": [
    "# Dataset\n",
    "dataset = {\n",
    "    'path': \"../dataset/MovieLens 100k/ratings.csv\",\n",
    "    'random_seed': 0,\n",
    "    'file_delimiter': \",\",\n",
    "    'skip_head': True\n",
    "}\n",
    "# Splitting\n",
    "splitting = {'strategy': \"temporal\", 'train_size': 0.8, 'test_consumes': 5}\n",
    "# Loader\n",
    "loader = FullData(dataset, splitting)\n",
    "train_dataset, test_dataset, _, _ = loader.process()"
   ]
  },
  {
   "cell_type": "code",
   "execution_count": 7,
   "metadata": {},
   "outputs": [],
   "source": [
    "parameters = {\n",
    "    \"Random\": {},\n",
    "    \"MostPopular\": {},\n",
    "    \"UCB\": {\"c\": 0.25},\n",
    "    \"ThompsonSampling\": {\"alpha_0\": 1, \"beta_0\": 100},\n",
    "    \"EGreedy\": {\"epsilon\": 0.1},\n",
    "    \"LinearUCB\": {\"alpha\": 1.0, \"item_var\": 0.01, \"iterations\": 20, \"num_lat\": 20, \"stop_criteria\": 0.0009, \"user_var\": 0.01, \"var\": 0.05},\n",
    "    \"GLM_UCB\": {\"c\": 4, \"item_var\": 0.01, \"iterations\": 20, \"num_lat\": 10, \"stop_criteria\": 0.0009, \"user_var\": 0.01, \"var\": 0.05},\n",
    "#     \"NICF\": {\"batch\": 256, \"clip_param\": 0.2, \"dropout_rate\": 0.01, \"gamma\": 0.0, \"inner_epoch\": 200, \"latent_factor\": 10, \"learning_rate\": 0.001, \"num_blocks\": 1, \"num_heads\": 2, \"restore_model\": False, \"rnn_layer\": 1, \"time_step\": 100, \"training_epoch\": 10000},\n",
    "    \"PTS\": {\"num_lat\": 20, \"num_particles\": 5, \"var\": 0.5, \"var_u\": 1.0, \"var_v\": 1.0},\n",
    "    \"ICTRTS\": {\"num_lat\": 2, \"num_particles\": 5},\n",
    "    \"ClusterBandit\": {\"B\": 5, \"C\": 0.5, \"D\": 3, \"num_clusters\": 4, \"num_lat\": 10},\n",
    "    \"WSCB\": {\"alpha\": 0.75, \"num_lat\": 10}\n",
    "}"
   ]
  },
  {
   "cell_type": "code",
   "execution_count": 8,
   "metadata": {},
   "outputs": [],
   "source": [
    "def create_agent(agent_name:str, prmt:dict) -> SimpleAgent:\n",
    "    value_function = eval(agent_name)(**prmt)\n",
    "    action_selection_policy = ASPEGreedy(**prmt) if agent_name == \"EGreedy\" else ASPGreedy()\n",
    "    agent = SimpleAgent(value_function, action_selection_policy, name=agent_name)\n",
    "    return agent"
   ]
  },
  {
   "cell_type": "code",
   "execution_count": 9,
   "metadata": {},
   "outputs": [],
   "source": [
    "agents = {}\n",
    "for agent_name, prmt in parameters.items():\n",
    "    agents[agent_name] = create_agent(agent_name, prmt)"
   ]
  },
  {
   "cell_type": "code",
   "execution_count": 10,
   "metadata": {},
   "outputs": [],
   "source": [
    "eval_policy = FixedInteraction(num_interactions=100, interaction_size=1, save_info=False)"
   ]
  },
  {
   "cell_type": "code",
   "execution_count": null,
   "metadata": {},
   "outputs": [],
   "source": [
    "eval_policy = FixedInteraction(num_interactions=100, interaction_size=1, save_info=False)"
   ]
  },
  {
   "cell_type": "code",
   "execution_count": 11,
   "metadata": {
    "scrolled": true
   },
   "outputs": [
    {
     "name": "stdout",
     "output_type": "stream",
     "text": [
      "Random\n",
      "Starting Random Training\n",
      "Ended Random Training\n"
     ]
    },
    {
     "name": "stderr",
     "output_type": "stream",
     "text": [
      "Random: 100%|████████████████████| 18900/18900 [00:02<00:00, 8033.12it/s]                                                                                                \n"
     ]
    },
    {
     "name": "stdout",
     "output_type": "stream",
     "text": [
      "MostPopular\n",
      "Starting MostPopular Training\n",
      "Ended MostPopular Training\n"
     ]
    },
    {
     "name": "stderr",
     "output_type": "stream",
     "text": [
      "MostPopular: 100%|████████████████████| 18900/18900 [00:02<00:00, 8120.59it/s]                                                                                           \n"
     ]
    },
    {
     "name": "stdout",
     "output_type": "stream",
     "text": [
      "UCB\n",
      "Starting UCB Training\n",
      "Ended UCB Training\n"
     ]
    },
    {
     "name": "stderr",
     "output_type": "stream",
     "text": [
      "UCB: 100%|████████████████████| 18900/18900 [00:03<00:00, 4938.58it/s]                                                                                                   \n"
     ]
    },
    {
     "name": "stdout",
     "output_type": "stream",
     "text": [
      "ThompsonSampling\n",
      "Starting ThompsonSampling Training\n",
      "Ended ThompsonSampling Training\n"
     ]
    },
    {
     "name": "stderr",
     "output_type": "stream",
     "text": [
      "ThompsonSampling: 100%|████████████████████| 18900/18900 [00:06<00:00, 2705.39it/s]                                                                                      \n"
     ]
    },
    {
     "name": "stdout",
     "output_type": "stream",
     "text": [
      "EGreedy\n",
      "Starting EGreedy Training\n",
      "Ended EGreedy Training\n"
     ]
    },
    {
     "name": "stderr",
     "output_type": "stream",
     "text": [
      "EGreedy: 100%|████████████████████| 18900/18900 [00:02<00:00, 8850.27it/s]                                                                                               \n"
     ]
    },
    {
     "name": "stdout",
     "output_type": "stream",
     "text": [
      "LinearUCB\n",
      "Starting LinearUCB Training\n"
     ]
    },
    {
     "name": "stderr",
     "output_type": "stream",
     "text": [
      "rmse=0.797: 100%|████████████████████| 20/20 [00:15<00:00,  1.30it/s]                                                                                                    \n"
     ]
    },
    {
     "name": "stdout",
     "output_type": "stream",
     "text": [
      "Ended LinearUCB Training\n"
     ]
    },
    {
     "name": "stderr",
     "output_type": "stream",
     "text": [
      "LinearUCB: 100%|████████████████████| 18900/18900 [00:11<00:00, 1711.63it/s]                                                                                             \n"
     ]
    },
    {
     "name": "stdout",
     "output_type": "stream",
     "text": [
      "GLM_UCB\n",
      "Starting GLM_UCB Training\n"
     ]
    },
    {
     "name": "stderr",
     "output_type": "stream",
     "text": [
      "rmse=0.833: 100%|████████████████████| 20/20 [00:11<00:00,  1.74it/s]                                                                                                    \n"
     ]
    },
    {
     "name": "stdout",
     "output_type": "stream",
     "text": [
      "Ended GLM_UCB Training\n"
     ]
    },
    {
     "name": "stderr",
     "output_type": "stream",
     "text": [
      "GLM_UCB: 100%|████████████████████| 18900/18900 [00:58<00:00, 323.36it/s]                                                                                                \n"
     ]
    },
    {
     "name": "stdout",
     "output_type": "stream",
     "text": [
      "PTS\n",
      "Starting PTS Training\n"
     ]
    },
    {
     "name": "stderr",
     "output_type": "stream",
     "text": [
      "100%|██████████████████████████████████████████████████████████████████████████████████████████████████████████████████████████| 83108/83108 [00:00<00:00, 746952.27it/s]\n",
      "cur=0.614,last=0.614:  73%|██████████████████████████████████████████████████████████████████████████████                             | 146/200 [00:01<00:00, 110.92it/s]\n"
     ]
    },
    {
     "name": "stdout",
     "output_type": "stream",
     "text": [
      "Achieved convergence with 147 iterations, saving 146 iteration\n",
      "Ended PTS Training\n"
     ]
    },
    {
     "name": "stderr",
     "output_type": "stream",
     "text": [
      "PTS: 100%|████████████████████| 18900/18900 [02:55<00:00, 107.72it/s]                                                                                                    \n"
     ]
    },
    {
     "name": "stdout",
     "output_type": "stream",
     "text": [
      "ICTRTS\n",
      "Starting ICTRTS Training\n"
     ]
    },
    {
     "name": "stderr",
     "output_type": "stream",
     "text": [
      "100%|█████████████████████████████████████████████████████████████████████████████████████████████████████████████████████████████| 83108/83108 [01:26<00:00, 957.30it/s]\n"
     ]
    },
    {
     "name": "stdout",
     "output_type": "stream",
     "text": [
      "Ended ICTRTS Training\n"
     ]
    },
    {
     "name": "stderr",
     "output_type": "stream",
     "text": [
      "ICTRTS: 100%|████████████████████| 18900/18900 [03:35<00:00, 87.70it/s]                                                                                                  \n"
     ]
    },
    {
     "name": "stdout",
     "output_type": "stream",
     "text": [
      "ClusterBandit\n",
      "Starting ClusterBandit Training\n",
      "Ended ClusterBandit Training\n"
     ]
    },
    {
     "name": "stderr",
     "output_type": "stream",
     "text": [
      "ClusterBandit: 100%|████████████████████| 18900/18900 [01:10<00:00, 266.77it/s]                                                                                          \n"
     ]
    },
    {
     "name": "stdout",
     "output_type": "stream",
     "text": [
      "WSCB\n",
      "Starting WSCB Training\n",
      "0.0 1.0\n",
      "Ended WSCB Training\n"
     ]
    },
    {
     "name": "stderr",
     "output_type": "stream",
     "text": [
      "WSCB: 100%|████████████████████| 18900/18900 [00:05<00:00, 3471.95it/s]                                                                                                  \n"
     ]
    }
   ],
   "source": [
    "interactions = {}\n",
    "for agent_name, agent in agents.items():\n",
    "    print(agent_name)\n",
    "    agent_interactions, action_info = eval_policy.evaluate(agent, train_dataset, test_dataset)\n",
    "    interactions[agent_name] = agent_interactions"
   ]
  },
  {
   "cell_type": "code",
   "execution_count": 23,
   "metadata": {},
   "outputs": [],
   "source": [
    "# Cumulative Evaluation Setup\n",
    "evaluator = UserCumulativeInteraction(\n",
    "    ground_truth_dataset=test_dataset,\n",
    "    num_interactions=100,\n",
    "    interaction_size=1,\n",
    "    interactions_to_evaluate=[5, 10, 20, 50, 100],\n",
    "    relevance_evaluator_threshold=3.99\n",
    ")"
   ]
  },
  {
   "cell_type": "code",
   "execution_count": 25,
   "metadata": {
    "scrolled": true
   },
   "outputs": [
    {
     "name": "stdout",
     "output_type": "stream",
     "text": [
      "\n",
      "Evaluating Random\n",
      "\n",
      "Computing iteration 5 with StageIterations\n",
      "Computing iteration 10 with StageIterations\n",
      "Computing iteration 20 with StageIterations\n",
      "Computing iteration 50 with StageIterations\n",
      "Computing iteration 100 with StageIterations\n",
      "StageIterations spent 0.32 seconds executing Hits metric\n",
      "\n",
      "Evaluating MostPopular\n",
      "\n",
      "Computing iteration 5 with StageIterations\n",
      "Computing iteration 10 with StageIterations\n",
      "Computing iteration 20 with StageIterations\n",
      "Computing iteration 50 with StageIterations\n",
      "Computing iteration 100 with StageIterations\n",
      "StageIterations spent 0.31 seconds executing Hits metric\n",
      "\n",
      "Evaluating UCB\n",
      "\n",
      "Computing iteration 5 with StageIterations\n",
      "Computing iteration 10 with StageIterations\n",
      "Computing iteration 20 with StageIterations\n",
      "Computing iteration 50 with StageIterations\n",
      "Computing iteration 100 with StageIterations\n",
      "StageIterations spent 0.37 seconds executing Hits metric\n",
      "\n",
      "Evaluating ThompsonSampling\n",
      "\n",
      "Computing iteration 5 with StageIterations\n",
      "Computing iteration 10 with StageIterations\n",
      "Computing iteration 20 with StageIterations\n",
      "Computing iteration 50 with StageIterations\n",
      "Computing iteration 100 with StageIterations\n",
      "StageIterations spent 0.33 seconds executing Hits metric\n",
      "\n",
      "Evaluating EGreedy\n",
      "\n",
      "Computing iteration 5 with StageIterations\n",
      "Computing iteration 10 with StageIterations\n",
      "Computing iteration 20 with StageIterations\n",
      "Computing iteration 50 with StageIterations\n",
      "Computing iteration 100 with StageIterations\n",
      "StageIterations spent 0.32 seconds executing Hits metric\n",
      "\n",
      "Evaluating LinearUCB\n",
      "\n",
      "Computing iteration 5 with StageIterations\n",
      "Computing iteration 10 with StageIterations\n",
      "Computing iteration 20 with StageIterations\n",
      "Computing iteration 50 with StageIterations\n",
      "Computing iteration 100 with StageIterations\n",
      "StageIterations spent 0.35 seconds executing Hits metric\n",
      "\n",
      "Evaluating GLM_UCB\n",
      "\n",
      "Computing iteration 5 with StageIterations\n",
      "Computing iteration 10 with StageIterations\n",
      "Computing iteration 20 with StageIterations\n",
      "Computing iteration 50 with StageIterations\n",
      "Computing iteration 100 with StageIterations\n",
      "StageIterations spent 0.35 seconds executing Hits metric\n",
      "\n",
      "Evaluating PTS\n",
      "\n",
      "Computing iteration 5 with StageIterations\n",
      "Computing iteration 10 with StageIterations\n",
      "Computing iteration 20 with StageIterations\n",
      "Computing iteration 50 with StageIterations\n",
      "Computing iteration 100 with StageIterations\n",
      "StageIterations spent 0.35 seconds executing Hits metric\n",
      "\n",
      "Evaluating ICTRTS\n",
      "\n",
      "Computing iteration 5 with StageIterations\n",
      "Computing iteration 10 with StageIterations\n",
      "Computing iteration 20 with StageIterations\n",
      "Computing iteration 50 with StageIterations\n",
      "Computing iteration 100 with StageIterations\n",
      "StageIterations spent 0.34 seconds executing Hits metric\n",
      "\n",
      "Evaluating ClusterBandit\n",
      "\n",
      "Computing iteration 5 with StageIterations\n",
      "Computing iteration 10 with StageIterations\n",
      "Computing iteration 20 with StageIterations\n",
      "Computing iteration 50 with StageIterations\n",
      "Computing iteration 100 with StageIterations\n",
      "StageIterations spent 0.32 seconds executing Hits metric\n",
      "\n",
      "Evaluating WSCB\n",
      "\n",
      "Computing iteration 5 with StageIterations\n",
      "Computing iteration 10 with StageIterations\n",
      "Computing iteration 20 with StageIterations\n",
      "Computing iteration 50 with StageIterations\n",
      "Computing iteration 100 with StageIterations\n",
      "StageIterations spent 0.35 seconds executing Hits metric\n"
     ]
    }
   ],
   "source": [
    "# Getting the results\n",
    "cumulative_results = {}\n",
    "for agent_name, agent_results in interactions.items():\n",
    "    print(f\"\\nEvaluating {agent_name}\\n\")\n",
    "    hits_values = evaluator.evaluate(metric_class=Hits, results=agent_results)\n",
    "    cumulative_results[agent_name] = hits_values"
   ]
  },
  {
   "cell_type": "code",
   "execution_count": 24,
   "metadata": {},
   "outputs": [],
   "source": [
    "# Stage Evaluation Setup\n",
    "evaluator = StageIterations(\n",
    "    ground_truth_dataset=test_dataset,\n",
    "    num_interactions=100,\n",
    "    interaction_size=1,\n",
    "    interactions_to_evaluate=[5, 10, 20, 50, 100],\n",
    "    relevance_evaluator_threshold=3.99\n",
    ")"
   ]
  },
  {
   "cell_type": "code",
   "execution_count": null,
   "metadata": {},
   "outputs": [],
   "source": [
    "# Getting the results\n",
    "stage_results = {}\n",
    "for agent_name, agent_results in interactions.items():\n",
    "    print(f\"\\nEvaluating {agent_name}\\n\")\n",
    "    hits_values = evaluator.evaluate(metric_class=Hits, results=agent_results)\n",
    "    results[agent_name] = hits_values"
   ]
  }
 ],
 "metadata": {
  "kernelspec": {
   "display_name": "Python 3 (ipykernel)",
   "language": "python",
   "name": "python3"
  },
  "language_info": {
   "codemirror_mode": {
    "name": "ipython",
    "version": 3
   },
   "file_extension": ".py",
   "mimetype": "text/x-python",
   "name": "python",
   "nbconvert_exporter": "python",
   "pygments_lexer": "ipython3",
   "version": "3.8.10"
  }
 },
 "nbformat": 4,
 "nbformat_minor": 1
}
