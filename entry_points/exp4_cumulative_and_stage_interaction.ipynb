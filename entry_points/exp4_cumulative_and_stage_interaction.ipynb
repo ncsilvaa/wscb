{
 "cells": [
  {
   "cell_type": "code",
   "execution_count": 32,
   "metadata": {},
   "outputs": [],
   "source": [
    "import numpy as np\n",
    "import pandas as pd"
   ]
  },
  {
   "cell_type": "code",
   "execution_count": 2,
   "metadata": {},
   "outputs": [],
   "source": [
    "from irec.environment.loader.full_data import FullData"
   ]
  },
  {
   "cell_type": "code",
   "execution_count": 3,
   "metadata": {},
   "outputs": [
    {
     "name": "stderr",
     "output_type": "stream",
     "text": [
      "2022-08-02 15:53:03.888075: W tensorflow/stream_executor/platform/default/dso_loader.cc:64] Could not load dynamic library 'libcudart.so.11.0'; dlerror: libcudart.so.11.0: cannot open shared object file: No such file or directory\n",
      "2022-08-02 15:53:03.888109: I tensorflow/stream_executor/cuda/cudart_stub.cc:29] Ignore above cudart dlerror if you do not have a GPU set up on your machine.\n"
     ]
    }
   ],
   "source": [
    "from irec.recommendation.agents.simple_agent import SimpleAgent\n",
    "from irec.recommendation.agents.action_selection_policies.egreedy import ASPEGreedy\n",
    "from irec.recommendation.agents.action_selection_policies.greedy import ASPGreedy"
   ]
  },
  {
   "cell_type": "code",
   "execution_count": 4,
   "metadata": {},
   "outputs": [],
   "source": [
    "from irec.recommendation.agents.value_functions import *"
   ]
  },
  {
   "cell_type": "code",
   "execution_count": 22,
   "metadata": {},
   "outputs": [],
   "source": [
    "from irec.offline_experiments.evaluation_policies.fixed_interaction import FixedInteraction\n",
    "from irec.offline_experiments.metric_evaluators.user_cumulative_interaction import UserCumulativeInteraction\n",
    "from irec.offline_experiments.metric_evaluators.stage_iterations import StageIterations\n",
    "from irec.offline_experiments.metrics.hits import Hits"
   ]
  },
  {
   "cell_type": "code",
   "execution_count": 6,
   "metadata": {},
   "outputs": [
    {
     "name": "stdout",
     "output_type": "stream",
     "text": [
      "\n",
      "Applying splitting strategy: temporal\n",
      "\n",
      "Test shape: (16892, 4)\n",
      "Train shape: (83108, 4)\n"
     ]
    }
   ],
   "source": [
    "# Dataset\n",
    "dataset = {\n",
    "    'path': \"../dataset/MovieLens 100k/ratings.csv\",\n",
    "    'random_seed': 0,\n",
    "    'file_delimiter': \",\",\n",
    "    'skip_head': True\n",
    "}\n",
    "# Splitting\n",
    "splitting = {'strategy': \"temporal\", 'train_size': 0.8, 'test_consumes': 5}\n",
    "# Loader\n",
    "loader = FullData(dataset, splitting)\n",
    "train_dataset, test_dataset, _, _ = loader.process()"
   ]
  },
  {
   "cell_type": "code",
   "execution_count": 7,
   "metadata": {},
   "outputs": [],
   "source": [
    "parameters = {\n",
    "    \"Random\": {},\n",
    "    \"MostPopular\": {},\n",
    "    \"UCB\": {\"c\": 0.25},\n",
    "    \"ThompsonSampling\": {\"alpha_0\": 1, \"beta_0\": 100},\n",
    "    \"EGreedy\": {\"epsilon\": 0.1},\n",
    "    \"LinearUCB\": {\"alpha\": 1.0, \"item_var\": 0.01, \"iterations\": 20, \"num_lat\": 20, \"stop_criteria\": 0.0009, \"user_var\": 0.01, \"var\": 0.05},\n",
    "    \"GLM_UCB\": {\"c\": 4, \"item_var\": 0.01, \"iterations\": 20, \"num_lat\": 10, \"stop_criteria\": 0.0009, \"user_var\": 0.01, \"var\": 0.05},\n",
    "#     \"NICF\": {\"batch\": 256, \"clip_param\": 0.2, \"dropout_rate\": 0.01, \"gamma\": 0.0, \"inner_epoch\": 200, \"latent_factor\": 10, \"learning_rate\": 0.001, \"num_blocks\": 1, \"num_heads\": 2, \"restore_model\": False, \"rnn_layer\": 1, \"time_step\": 100, \"training_epoch\": 10000},\n",
    "    \"PTS\": {\"num_lat\": 20, \"num_particles\": 5, \"var\": 0.5, \"var_u\": 1.0, \"var_v\": 1.0},\n",
    "    \"ICTRTS\": {\"num_lat\": 2, \"num_particles\": 5},\n",
    "    \"ClusterBandit\": {\"B\": 5, \"C\": 0.5, \"D\": 3, \"num_clusters\": 4, \"num_lat\": 10},\n",
    "    \"WSCB\": {\"alpha\": 0.75, \"num_lat\": 10}\n",
    "}"
   ]
  },
  {
   "cell_type": "code",
   "execution_count": 31,
   "metadata": {},
   "outputs": [],
   "source": [
    "agents = {}\n",
    "for agent_name, prmt in parameters.items():\n",
    "    value_function = eval(agent_name)(**prmt)\n",
    "    action_selection_policy = ASPEGreedy(**prmt) if agent_name == \"EGreedy\" else ASPGreedy()\n",
    "    agent = SimpleAgent(value_function, action_selection_policy, name=agent_name)\n",
    "    agents[agent_name] = agent"
   ]
  },
  {
   "cell_type": "code",
   "execution_count": 10,
   "metadata": {},
   "outputs": [],
   "source": [
    "eval_policy = FixedInteraction(num_interactions=100, interaction_size=1, save_info=False)"
   ]
  },
  {
   "cell_type": "code",
   "execution_count": 11,
   "metadata": {
    "scrolled": true
   },
   "outputs": [
    {
     "name": "stdout",
     "output_type": "stream",
     "text": [
      "Random\n",
      "Starting Random Training\n",
      "Ended Random Training\n"
     ]
    },
    {
     "name": "stderr",
     "output_type": "stream",
     "text": [
      "Random: 100%|████████████████████| 18900/18900 [00:02<00:00, 8033.12it/s]                                                                                                \n"
     ]
    },
    {
     "name": "stdout",
     "output_type": "stream",
     "text": [
      "MostPopular\n",
      "Starting MostPopular Training\n",
      "Ended MostPopular Training\n"
     ]
    },
    {
     "name": "stderr",
     "output_type": "stream",
     "text": [
      "MostPopular: 100%|████████████████████| 18900/18900 [00:02<00:00, 8120.59it/s]                                                                                           \n"
     ]
    },
    {
     "name": "stdout",
     "output_type": "stream",
     "text": [
      "UCB\n",
      "Starting UCB Training\n",
      "Ended UCB Training\n"
     ]
    },
    {
     "name": "stderr",
     "output_type": "stream",
     "text": [
      "UCB: 100%|████████████████████| 18900/18900 [00:03<00:00, 4938.58it/s]                                                                                                   \n"
     ]
    },
    {
     "name": "stdout",
     "output_type": "stream",
     "text": [
      "ThompsonSampling\n",
      "Starting ThompsonSampling Training\n",
      "Ended ThompsonSampling Training\n"
     ]
    },
    {
     "name": "stderr",
     "output_type": "stream",
     "text": [
      "ThompsonSampling: 100%|████████████████████| 18900/18900 [00:06<00:00, 2705.39it/s]                                                                                      \n"
     ]
    },
    {
     "name": "stdout",
     "output_type": "stream",
     "text": [
      "EGreedy\n",
      "Starting EGreedy Training\n",
      "Ended EGreedy Training\n"
     ]
    },
    {
     "name": "stderr",
     "output_type": "stream",
     "text": [
      "EGreedy: 100%|████████████████████| 18900/18900 [00:02<00:00, 8850.27it/s]                                                                                               \n"
     ]
    },
    {
     "name": "stdout",
     "output_type": "stream",
     "text": [
      "LinearUCB\n",
      "Starting LinearUCB Training\n"
     ]
    },
    {
     "name": "stderr",
     "output_type": "stream",
     "text": [
      "rmse=0.797: 100%|████████████████████| 20/20 [00:15<00:00,  1.30it/s]                                                                                                    \n"
     ]
    },
    {
     "name": "stdout",
     "output_type": "stream",
     "text": [
      "Ended LinearUCB Training\n"
     ]
    },
    {
     "name": "stderr",
     "output_type": "stream",
     "text": [
      "LinearUCB: 100%|████████████████████| 18900/18900 [00:11<00:00, 1711.63it/s]                                                                                             \n"
     ]
    },
    {
     "name": "stdout",
     "output_type": "stream",
     "text": [
      "GLM_UCB\n",
      "Starting GLM_UCB Training\n"
     ]
    },
    {
     "name": "stderr",
     "output_type": "stream",
     "text": [
      "rmse=0.833: 100%|████████████████████| 20/20 [00:11<00:00,  1.74it/s]                                                                                                    \n"
     ]
    },
    {
     "name": "stdout",
     "output_type": "stream",
     "text": [
      "Ended GLM_UCB Training\n"
     ]
    },
    {
     "name": "stderr",
     "output_type": "stream",
     "text": [
      "GLM_UCB: 100%|████████████████████| 18900/18900 [00:58<00:00, 323.36it/s]                                                                                                \n"
     ]
    },
    {
     "name": "stdout",
     "output_type": "stream",
     "text": [
      "PTS\n",
      "Starting PTS Training\n"
     ]
    },
    {
     "name": "stderr",
     "output_type": "stream",
     "text": [
      "100%|██████████████████████████████████████████████████████████████████████████████████████████████████████████████████████████| 83108/83108 [00:00<00:00, 746952.27it/s]\n",
      "cur=0.614,last=0.614:  73%|██████████████████████████████████████████████████████████████████████████████                             | 146/200 [00:01<00:00, 110.92it/s]\n"
     ]
    },
    {
     "name": "stdout",
     "output_type": "stream",
     "text": [
      "Achieved convergence with 147 iterations, saving 146 iteration\n",
      "Ended PTS Training\n"
     ]
    },
    {
     "name": "stderr",
     "output_type": "stream",
     "text": [
      "PTS: 100%|████████████████████| 18900/18900 [02:55<00:00, 107.72it/s]                                                                                                    \n"
     ]
    },
    {
     "name": "stdout",
     "output_type": "stream",
     "text": [
      "ICTRTS\n",
      "Starting ICTRTS Training\n"
     ]
    },
    {
     "name": "stderr",
     "output_type": "stream",
     "text": [
      "100%|█████████████████████████████████████████████████████████████████████████████████████████████████████████████████████████████| 83108/83108 [01:26<00:00, 957.30it/s]\n"
     ]
    },
    {
     "name": "stdout",
     "output_type": "stream",
     "text": [
      "Ended ICTRTS Training\n"
     ]
    },
    {
     "name": "stderr",
     "output_type": "stream",
     "text": [
      "ICTRTS: 100%|████████████████████| 18900/18900 [03:35<00:00, 87.70it/s]                                                                                                  \n"
     ]
    },
    {
     "name": "stdout",
     "output_type": "stream",
     "text": [
      "ClusterBandit\n",
      "Starting ClusterBandit Training\n",
      "Ended ClusterBandit Training\n"
     ]
    },
    {
     "name": "stderr",
     "output_type": "stream",
     "text": [
      "ClusterBandit: 100%|████████████████████| 18900/18900 [01:10<00:00, 266.77it/s]                                                                                          \n"
     ]
    },
    {
     "name": "stdout",
     "output_type": "stream",
     "text": [
      "WSCB\n",
      "Starting WSCB Training\n",
      "0.0 1.0\n",
      "Ended WSCB Training\n"
     ]
    },
    {
     "name": "stderr",
     "output_type": "stream",
     "text": [
      "WSCB: 100%|████████████████████| 18900/18900 [00:05<00:00, 3471.95it/s]                                                                                                  \n"
     ]
    }
   ],
   "source": [
    "interactions = {}\n",
    "for agent_name, agent in agents.items():\n",
    "    print(agent_name)\n",
    "    agent_interactions, action_info = eval_policy.evaluate(agent, train_dataset, test_dataset)\n",
    "    interactions[agent_name] = agent_interactions"
   ]
  },
  {
   "cell_type": "code",
   "execution_count": 27,
   "metadata": {},
   "outputs": [],
   "source": [
    "# Cumulative Evaluation Setup\n",
    "evaluator = UserCumulativeInteraction(\n",
    "    ground_truth_dataset=test_dataset,\n",
    "    num_interactions=100,\n",
    "    interaction_size=1,\n",
    "    interactions_to_evaluate=[5, 10, 20, 50, 100],\n",
    "    relevance_evaluator_threshold=3.99\n",
    ")"
   ]
  },
  {
   "cell_type": "code",
   "execution_count": 28,
   "metadata": {
    "scrolled": true
   },
   "outputs": [
    {
     "name": "stdout",
     "output_type": "stream",
     "text": [
      "\n",
      "Evaluating Random\n",
      "\n",
      "Computing interaction 5 with UserCumulativeInteraction\n",
      "Computing interaction 10 with UserCumulativeInteraction\n",
      "Computing interaction 20 with UserCumulativeInteraction\n",
      "Computing interaction 50 with UserCumulativeInteraction\n",
      "Computing interaction 100 with UserCumulativeInteraction\n",
      "UserCumulativeInteraction spent 0.31 seconds executing Hits metric\n",
      "\n",
      "Evaluating MostPopular\n",
      "\n",
      "Computing interaction 5 with UserCumulativeInteraction\n",
      "Computing interaction 10 with UserCumulativeInteraction\n",
      "Computing interaction 20 with UserCumulativeInteraction\n",
      "Computing interaction 50 with UserCumulativeInteraction\n",
      "Computing interaction 100 with UserCumulativeInteraction\n",
      "UserCumulativeInteraction spent 0.33 seconds executing Hits metric\n",
      "\n",
      "Evaluating UCB\n",
      "\n",
      "Computing interaction 5 with UserCumulativeInteraction\n",
      "Computing interaction 10 with UserCumulativeInteraction\n",
      "Computing interaction 20 with UserCumulativeInteraction\n",
      "Computing interaction 50 with UserCumulativeInteraction\n",
      "Computing interaction 100 with UserCumulativeInteraction\n",
      "UserCumulativeInteraction spent 0.32 seconds executing Hits metric\n",
      "\n",
      "Evaluating ThompsonSampling\n",
      "\n",
      "Computing interaction 5 with UserCumulativeInteraction\n",
      "Computing interaction 10 with UserCumulativeInteraction\n",
      "Computing interaction 20 with UserCumulativeInteraction\n",
      "Computing interaction 50 with UserCumulativeInteraction\n",
      "Computing interaction 100 with UserCumulativeInteraction\n",
      "UserCumulativeInteraction spent 0.32 seconds executing Hits metric\n",
      "\n",
      "Evaluating EGreedy\n",
      "\n",
      "Computing interaction 5 with UserCumulativeInteraction\n",
      "Computing interaction 10 with UserCumulativeInteraction\n",
      "Computing interaction 20 with UserCumulativeInteraction\n",
      "Computing interaction 50 with UserCumulativeInteraction\n",
      "Computing interaction 100 with UserCumulativeInteraction\n",
      "UserCumulativeInteraction spent 0.32 seconds executing Hits metric\n",
      "\n",
      "Evaluating LinearUCB\n",
      "\n",
      "Computing interaction 5 with UserCumulativeInteraction\n",
      "Computing interaction 10 with UserCumulativeInteraction\n",
      "Computing interaction 20 with UserCumulativeInteraction\n",
      "Computing interaction 50 with UserCumulativeInteraction\n",
      "Computing interaction 100 with UserCumulativeInteraction\n",
      "UserCumulativeInteraction spent 0.32 seconds executing Hits metric\n",
      "\n",
      "Evaluating GLM_UCB\n",
      "\n",
      "Computing interaction 5 with UserCumulativeInteraction\n",
      "Computing interaction 10 with UserCumulativeInteraction\n",
      "Computing interaction 20 with UserCumulativeInteraction\n",
      "Computing interaction 50 with UserCumulativeInteraction\n",
      "Computing interaction 100 with UserCumulativeInteraction\n",
      "UserCumulativeInteraction spent 0.31 seconds executing Hits metric\n",
      "\n",
      "Evaluating PTS\n",
      "\n",
      "Computing interaction 5 with UserCumulativeInteraction\n",
      "Computing interaction 10 with UserCumulativeInteraction\n",
      "Computing interaction 20 with UserCumulativeInteraction\n",
      "Computing interaction 50 with UserCumulativeInteraction\n",
      "Computing interaction 100 with UserCumulativeInteraction\n",
      "UserCumulativeInteraction spent 0.33 seconds executing Hits metric\n",
      "\n",
      "Evaluating ICTRTS\n",
      "\n",
      "Computing interaction 5 with UserCumulativeInteraction\n",
      "Computing interaction 10 with UserCumulativeInteraction\n",
      "Computing interaction 20 with UserCumulativeInteraction\n",
      "Computing interaction 50 with UserCumulativeInteraction\n",
      "Computing interaction 100 with UserCumulativeInteraction\n",
      "UserCumulativeInteraction spent 0.32 seconds executing Hits metric\n",
      "\n",
      "Evaluating ClusterBandit\n",
      "\n",
      "Computing interaction 5 with UserCumulativeInteraction\n",
      "Computing interaction 10 with UserCumulativeInteraction\n",
      "Computing interaction 20 with UserCumulativeInteraction\n",
      "Computing interaction 50 with UserCumulativeInteraction\n",
      "Computing interaction 100 with UserCumulativeInteraction\n",
      "UserCumulativeInteraction spent 0.32 seconds executing Hits metric\n",
      "\n",
      "Evaluating WSCB\n",
      "\n",
      "Computing interaction 5 with UserCumulativeInteraction\n",
      "Computing interaction 10 with UserCumulativeInteraction\n",
      "Computing interaction 20 with UserCumulativeInteraction\n",
      "Computing interaction 50 with UserCumulativeInteraction\n",
      "Computing interaction 100 with UserCumulativeInteraction\n",
      "UserCumulativeInteraction spent 0.34 seconds executing Hits metric\n"
     ]
    }
   ],
   "source": [
    "# Getting the results\n",
    "cumulative_results = {}\n",
    "for agent_name, agent_results in interactions.items():\n",
    "    print(f\"\\nEvaluating {agent_name}\\n\")\n",
    "    hits_values = evaluator.evaluate(metric_class=Hits, results=agent_results)\n",
    "    cumulative_results[agent_name] = hits_values"
   ]
  },
  {
   "cell_type": "code",
   "execution_count": 48,
   "metadata": {},
   "outputs": [
    {
     "data": {
      "text/html": [
       "<div>\n",
       "<style scoped>\n",
       "    .dataframe tbody tr th:only-of-type {\n",
       "        vertical-align: middle;\n",
       "    }\n",
       "\n",
       "    .dataframe tbody tr th {\n",
       "        vertical-align: top;\n",
       "    }\n",
       "\n",
       "    .dataframe thead th {\n",
       "        text-align: right;\n",
       "    }\n",
       "</style>\n",
       "<table border=\"1\" class=\"dataframe\">\n",
       "  <thead>\n",
       "    <tr style=\"text-align: right;\">\n",
       "      <th></th>\n",
       "      <th>5</th>\n",
       "      <th>10</th>\n",
       "      <th>20</th>\n",
       "      <th>50</th>\n",
       "      <th>100</th>\n",
       "    </tr>\n",
       "    <tr>\n",
       "      <th>Model</th>\n",
       "      <th></th>\n",
       "      <th></th>\n",
       "      <th></th>\n",
       "      <th></th>\n",
       "      <th></th>\n",
       "    </tr>\n",
       "  </thead>\n",
       "  <tbody>\n",
       "    <tr>\n",
       "      <th>Random</th>\n",
       "      <td>0.174603</td>\n",
       "      <td>0.37037</td>\n",
       "      <td>0.624339</td>\n",
       "      <td>1.529101</td>\n",
       "      <td>2.984127</td>\n",
       "    </tr>\n",
       "    <tr>\n",
       "      <th>MostPopular</th>\n",
       "      <td>1.666667</td>\n",
       "      <td>2.915344</td>\n",
       "      <td>5.137566</td>\n",
       "      <td>10.37037</td>\n",
       "      <td>16.873016</td>\n",
       "    </tr>\n",
       "    <tr>\n",
       "      <th>UCB</th>\n",
       "      <td>1.074074</td>\n",
       "      <td>2.074074</td>\n",
       "      <td>3.772487</td>\n",
       "      <td>8.275132</td>\n",
       "      <td>14.005291</td>\n",
       "    </tr>\n",
       "    <tr>\n",
       "      <th>ThompsonSampling</th>\n",
       "      <td>1.619048</td>\n",
       "      <td>2.94709</td>\n",
       "      <td>5.132275</td>\n",
       "      <td>10.417989</td>\n",
       "      <td>17.513228</td>\n",
       "    </tr>\n",
       "    <tr>\n",
       "      <th>EGreedy</th>\n",
       "      <td>1.047619</td>\n",
       "      <td>2.0</td>\n",
       "      <td>3.724868</td>\n",
       "      <td>8.095238</td>\n",
       "      <td>13.825397</td>\n",
       "    </tr>\n",
       "    <tr>\n",
       "      <th>LinearUCB</th>\n",
       "      <td>2.010582</td>\n",
       "      <td>3.656085</td>\n",
       "      <td>6.677249</td>\n",
       "      <td>14.269841</td>\n",
       "      <td>23.301587</td>\n",
       "    </tr>\n",
       "    <tr>\n",
       "      <th>GLM_UCB</th>\n",
       "      <td>1.312169</td>\n",
       "      <td>2.095238</td>\n",
       "      <td>4.994709</td>\n",
       "      <td>12.412698</td>\n",
       "      <td>21.142857</td>\n",
       "    </tr>\n",
       "    <tr>\n",
       "      <th>PTS</th>\n",
       "      <td>0.433862</td>\n",
       "      <td>0.767196</td>\n",
       "      <td>1.354497</td>\n",
       "      <td>3.957672</td>\n",
       "      <td>10.719577</td>\n",
       "    </tr>\n",
       "    <tr>\n",
       "      <th>ICTRTS</th>\n",
       "      <td>0.084656</td>\n",
       "      <td>0.26455</td>\n",
       "      <td>0.883598</td>\n",
       "      <td>4.216931</td>\n",
       "      <td>9.529101</td>\n",
       "    </tr>\n",
       "    <tr>\n",
       "      <th>ClusterBandit</th>\n",
       "      <td>1.068783</td>\n",
       "      <td>2.507937</td>\n",
       "      <td>4.883598</td>\n",
       "      <td>8.359788</td>\n",
       "      <td>13.830688</td>\n",
       "    </tr>\n",
       "    <tr>\n",
       "      <th>WSCB</th>\n",
       "      <td>1.375661</td>\n",
       "      <td>2.37037</td>\n",
       "      <td>6.634921</td>\n",
       "      <td>15.904762</td>\n",
       "      <td>25.529101</td>\n",
       "    </tr>\n",
       "  </tbody>\n",
       "</table>\n",
       "</div>"
      ],
      "text/plain": [
       "                         5        10        20         50        100\n",
       "Model                                                               \n",
       "Random            0.174603   0.37037  0.624339   1.529101   2.984127\n",
       "MostPopular       1.666667  2.915344  5.137566   10.37037  16.873016\n",
       "UCB               1.074074  2.074074  3.772487   8.275132  14.005291\n",
       "ThompsonSampling  1.619048   2.94709  5.132275  10.417989  17.513228\n",
       "EGreedy           1.047619       2.0  3.724868   8.095238  13.825397\n",
       "LinearUCB         2.010582  3.656085  6.677249  14.269841  23.301587\n",
       "GLM_UCB           1.312169  2.095238  4.994709  12.412698  21.142857\n",
       "PTS               0.433862  0.767196  1.354497   3.957672  10.719577\n",
       "ICTRTS            0.084656   0.26455  0.883598   4.216931   9.529101\n",
       "ClusterBandit     1.068783  2.507937  4.883598   8.359788  13.830688\n",
       "WSCB              1.375661   2.37037  6.634921  15.904762  25.529101"
      ]
     },
     "execution_count": 48,
     "metadata": {},
     "output_type": "execute_result"
    }
   ],
   "source": [
    "df_cumulative = pd.DataFrame(columns=[\"Model\", 5, 10, 20, 50, 100])\n",
    "df_cumulative.Model = list(cumulative_results.keys())\n",
    "df_cumulative.set_index(\"Model\", inplace=True)\n",
    "for agent_name, results in cumulative_results.items():\n",
    "    df_cumulative.loc[agent_name] = [\n",
    "        np.mean(list(metric_values.values())) for metric_values in results\n",
    "    ]\n",
    "df_cumulative"
   ]
  },
  {
   "cell_type": "code",
   "execution_count": 50,
   "metadata": {},
   "outputs": [],
   "source": [
    "# Stage Evaluation Setup\n",
    "evaluator = StageIterations(\n",
    "    ground_truth_dataset=test_dataset,\n",
    "    num_interactions=100,\n",
    "    interaction_size=1,\n",
    "    interactions_to_evaluate=[5, 10, 15, 20, 50, 100],\n",
    "    relevance_evaluator_threshold=3.99\n",
    ")"
   ]
  },
  {
   "cell_type": "code",
   "execution_count": 51,
   "metadata": {
    "scrolled": true
   },
   "outputs": [
    {
     "name": "stdout",
     "output_type": "stream",
     "text": [
      "\n",
      "Evaluating Random\n",
      "\n",
      "Computing iteration 5 with StageIterations\n",
      "Computing iteration 10 with StageIterations\n",
      "Computing iteration 15 with StageIterations\n",
      "Computing iteration 20 with StageIterations\n",
      "Computing iteration 50 with StageIterations\n",
      "Computing iteration 100 with StageIterations\n",
      "StageIterations spent 0.33 seconds executing Hits metric\n",
      "\n",
      "Evaluating MostPopular\n",
      "\n",
      "Computing iteration 5 with StageIterations\n",
      "Computing iteration 10 with StageIterations\n",
      "Computing iteration 15 with StageIterations\n",
      "Computing iteration 20 with StageIterations\n",
      "Computing iteration 50 with StageIterations\n",
      "Computing iteration 100 with StageIterations\n",
      "StageIterations spent 0.33 seconds executing Hits metric\n",
      "\n",
      "Evaluating UCB\n",
      "\n",
      "Computing iteration 5 with StageIterations\n",
      "Computing iteration 10 with StageIterations\n",
      "Computing iteration 15 with StageIterations\n",
      "Computing iteration 20 with StageIterations\n",
      "Computing iteration 50 with StageIterations\n",
      "Computing iteration 100 with StageIterations\n",
      "StageIterations spent 0.32 seconds executing Hits metric\n",
      "\n",
      "Evaluating ThompsonSampling\n",
      "\n",
      "Computing iteration 5 with StageIterations\n",
      "Computing iteration 10 with StageIterations\n",
      "Computing iteration 15 with StageIterations\n",
      "Computing iteration 20 with StageIterations\n",
      "Computing iteration 50 with StageIterations\n",
      "Computing iteration 100 with StageIterations\n",
      "StageIterations spent 0.34 seconds executing Hits metric\n",
      "\n",
      "Evaluating EGreedy\n",
      "\n",
      "Computing iteration 5 with StageIterations\n",
      "Computing iteration 10 with StageIterations\n",
      "Computing iteration 15 with StageIterations\n",
      "Computing iteration 20 with StageIterations\n",
      "Computing iteration 50 with StageIterations\n",
      "Computing iteration 100 with StageIterations\n",
      "StageIterations spent 0.33 seconds executing Hits metric\n",
      "\n",
      "Evaluating LinearUCB\n",
      "\n",
      "Computing iteration 5 with StageIterations\n",
      "Computing iteration 10 with StageIterations\n",
      "Computing iteration 15 with StageIterations\n",
      "Computing iteration 20 with StageIterations\n",
      "Computing iteration 50 with StageIterations\n",
      "Computing iteration 100 with StageIterations\n",
      "StageIterations spent 0.33 seconds executing Hits metric\n",
      "\n",
      "Evaluating GLM_UCB\n",
      "\n",
      "Computing iteration 5 with StageIterations\n",
      "Computing iteration 10 with StageIterations\n",
      "Computing iteration 15 with StageIterations\n",
      "Computing iteration 20 with StageIterations\n",
      "Computing iteration 50 with StageIterations\n",
      "Computing iteration 100 with StageIterations\n",
      "StageIterations spent 0.34 seconds executing Hits metric\n",
      "\n",
      "Evaluating PTS\n",
      "\n",
      "Computing iteration 5 with StageIterations\n",
      "Computing iteration 10 with StageIterations\n",
      "Computing iteration 15 with StageIterations\n",
      "Computing iteration 20 with StageIterations\n",
      "Computing iteration 50 with StageIterations\n",
      "Computing iteration 100 with StageIterations\n",
      "StageIterations spent 0.35 seconds executing Hits metric\n",
      "\n",
      "Evaluating ICTRTS\n",
      "\n",
      "Computing iteration 5 with StageIterations\n",
      "Computing iteration 10 with StageIterations\n",
      "Computing iteration 15 with StageIterations\n",
      "Computing iteration 20 with StageIterations\n",
      "Computing iteration 50 with StageIterations\n",
      "Computing iteration 100 with StageIterations\n",
      "StageIterations spent 0.34 seconds executing Hits metric\n",
      "\n",
      "Evaluating ClusterBandit\n",
      "\n",
      "Computing iteration 5 with StageIterations\n",
      "Computing iteration 10 with StageIterations\n",
      "Computing iteration 15 with StageIterations\n",
      "Computing iteration 20 with StageIterations\n",
      "Computing iteration 50 with StageIterations\n",
      "Computing iteration 100 with StageIterations\n",
      "StageIterations spent 0.34 seconds executing Hits metric\n",
      "\n",
      "Evaluating WSCB\n",
      "\n",
      "Computing iteration 5 with StageIterations\n",
      "Computing iteration 10 with StageIterations\n",
      "Computing iteration 15 with StageIterations\n",
      "Computing iteration 20 with StageIterations\n",
      "Computing iteration 50 with StageIterations\n",
      "Computing iteration 100 with StageIterations\n",
      "StageIterations spent 0.34 seconds executing Hits metric\n"
     ]
    }
   ],
   "source": [
    "# Getting the results\n",
    "stage_results = {}\n",
    "for agent_name, agent_results in interactions.items():\n",
    "    print(f\"\\nEvaluating {agent_name}\\n\")\n",
    "    hits_values = evaluator.evaluate(metric_class=Hits, results=agent_results)\n",
    "    stage_results[agent_name] = hits_values"
   ]
  },
  {
   "cell_type": "code",
   "execution_count": 52,
   "metadata": {},
   "outputs": [
    {
     "data": {
      "text/html": [
       "<div>\n",
       "<style scoped>\n",
       "    .dataframe tbody tr th:only-of-type {\n",
       "        vertical-align: middle;\n",
       "    }\n",
       "\n",
       "    .dataframe tbody tr th {\n",
       "        vertical-align: top;\n",
       "    }\n",
       "\n",
       "    .dataframe thead th {\n",
       "        text-align: right;\n",
       "    }\n",
       "</style>\n",
       "<table border=\"1\" class=\"dataframe\">\n",
       "  <thead>\n",
       "    <tr style=\"text-align: right;\">\n",
       "      <th></th>\n",
       "      <th>1-5</th>\n",
       "      <th>6-10</th>\n",
       "      <th>11-15</th>\n",
       "      <th>16-20</th>\n",
       "      <th>21-50</th>\n",
       "      <th>51-100</th>\n",
       "    </tr>\n",
       "    <tr>\n",
       "      <th>Model</th>\n",
       "      <th></th>\n",
       "      <th></th>\n",
       "      <th></th>\n",
       "      <th></th>\n",
       "      <th></th>\n",
       "      <th></th>\n",
       "    </tr>\n",
       "  </thead>\n",
       "  <tbody>\n",
       "    <tr>\n",
       "      <th>Random</th>\n",
       "      <td>0.174603</td>\n",
       "      <td>0.195767</td>\n",
       "      <td>0.111111</td>\n",
       "      <td>0.142857</td>\n",
       "      <td>0.904762</td>\n",
       "      <td>1.455026</td>\n",
       "    </tr>\n",
       "    <tr>\n",
       "      <th>MostPopular</th>\n",
       "      <td>1.666667</td>\n",
       "      <td>1.248677</td>\n",
       "      <td>1.248677</td>\n",
       "      <td>0.973545</td>\n",
       "      <td>5.232804</td>\n",
       "      <td>6.502646</td>\n",
       "    </tr>\n",
       "    <tr>\n",
       "      <th>UCB</th>\n",
       "      <td>1.074074</td>\n",
       "      <td>1.0</td>\n",
       "      <td>0.910053</td>\n",
       "      <td>0.78836</td>\n",
       "      <td>4.502646</td>\n",
       "      <td>5.730159</td>\n",
       "    </tr>\n",
       "    <tr>\n",
       "      <th>ThompsonSampling</th>\n",
       "      <td>1.619048</td>\n",
       "      <td>1.328042</td>\n",
       "      <td>1.132275</td>\n",
       "      <td>1.05291</td>\n",
       "      <td>5.285714</td>\n",
       "      <td>7.095238</td>\n",
       "    </tr>\n",
       "    <tr>\n",
       "      <th>EGreedy</th>\n",
       "      <td>1.047619</td>\n",
       "      <td>0.952381</td>\n",
       "      <td>0.920635</td>\n",
       "      <td>0.804233</td>\n",
       "      <td>4.37037</td>\n",
       "      <td>5.730159</td>\n",
       "    </tr>\n",
       "    <tr>\n",
       "      <th>LinearUCB</th>\n",
       "      <td>2.010582</td>\n",
       "      <td>1.645503</td>\n",
       "      <td>1.592593</td>\n",
       "      <td>1.428571</td>\n",
       "      <td>7.592593</td>\n",
       "      <td>9.031746</td>\n",
       "    </tr>\n",
       "    <tr>\n",
       "      <th>GLM_UCB</th>\n",
       "      <td>1.312169</td>\n",
       "      <td>0.783069</td>\n",
       "      <td>1.47619</td>\n",
       "      <td>1.42328</td>\n",
       "      <td>7.417989</td>\n",
       "      <td>8.730159</td>\n",
       "    </tr>\n",
       "    <tr>\n",
       "      <th>PTS</th>\n",
       "      <td>0.433862</td>\n",
       "      <td>0.333333</td>\n",
       "      <td>0.227513</td>\n",
       "      <td>0.359788</td>\n",
       "      <td>2.603175</td>\n",
       "      <td>6.761905</td>\n",
       "    </tr>\n",
       "    <tr>\n",
       "      <th>ICTRTS</th>\n",
       "      <td>0.084656</td>\n",
       "      <td>0.179894</td>\n",
       "      <td>0.238095</td>\n",
       "      <td>0.380952</td>\n",
       "      <td>3.333333</td>\n",
       "      <td>5.312169</td>\n",
       "    </tr>\n",
       "    <tr>\n",
       "      <th>ClusterBandit</th>\n",
       "      <td>1.068783</td>\n",
       "      <td>1.439153</td>\n",
       "      <td>1.291005</td>\n",
       "      <td>1.084656</td>\n",
       "      <td>3.47619</td>\n",
       "      <td>5.470899</td>\n",
       "    </tr>\n",
       "    <tr>\n",
       "      <th>WSCB</th>\n",
       "      <td>1.375661</td>\n",
       "      <td>0.994709</td>\n",
       "      <td>2.31746</td>\n",
       "      <td>1.94709</td>\n",
       "      <td>9.269841</td>\n",
       "      <td>9.624339</td>\n",
       "    </tr>\n",
       "  </tbody>\n",
       "</table>\n",
       "</div>"
      ],
      "text/plain": [
       "                       1-5      6-10     11-15     16-20     21-50    51-100\n",
       "Model                                                                       \n",
       "Random            0.174603  0.195767  0.111111  0.142857  0.904762  1.455026\n",
       "MostPopular       1.666667  1.248677  1.248677  0.973545  5.232804  6.502646\n",
       "UCB               1.074074       1.0  0.910053   0.78836  4.502646  5.730159\n",
       "ThompsonSampling  1.619048  1.328042  1.132275   1.05291  5.285714  7.095238\n",
       "EGreedy           1.047619  0.952381  0.920635  0.804233   4.37037  5.730159\n",
       "LinearUCB         2.010582  1.645503  1.592593  1.428571  7.592593  9.031746\n",
       "GLM_UCB           1.312169  0.783069   1.47619   1.42328  7.417989  8.730159\n",
       "PTS               0.433862  0.333333  0.227513  0.359788  2.603175  6.761905\n",
       "ICTRTS            0.084656  0.179894  0.238095  0.380952  3.333333  5.312169\n",
       "ClusterBandit     1.068783  1.439153  1.291005  1.084656   3.47619  5.470899\n",
       "WSCB              1.375661  0.994709   2.31746   1.94709  9.269841  9.624339"
      ]
     },
     "execution_count": 52,
     "metadata": {},
     "output_type": "execute_result"
    }
   ],
   "source": [
    "df_stage = pd.DataFrame(columns=[\"Model\", \"1-5\", \"6-10\", \"11-15\", \"16-20\", \"21-50\", \"51-100\"])\n",
    "df_stage.Model = list(stage_results.keys())\n",
    "df_stage.set_index(\"Model\", inplace=True)\n",
    "for agent_name, results in stage_results.items():\n",
    "    df_stage.loc[agent_name] = [\n",
    "        np.mean(list(metric_values.values())) for metric_values in results\n",
    "    ]\n",
    "df_stage"
   ]
  }
 ],
 "metadata": {
  "kernelspec": {
   "display_name": "Python 3 (ipykernel)",
   "language": "python",
   "name": "python3"
  },
  "language_info": {
   "codemirror_mode": {
    "name": "ipython",
    "version": 3
   },
   "file_extension": ".py",
   "mimetype": "text/x-python",
   "name": "python",
   "nbconvert_exporter": "python",
   "pygments_lexer": "ipython3",
   "version": "3.8.10"
  }
 },
 "nbformat": 4,
 "nbformat_minor": 1
}
