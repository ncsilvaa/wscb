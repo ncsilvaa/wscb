{
 "cells": [
  {
   "cell_type": "code",
   "execution_count": 1,
   "metadata": {},
   "outputs": [],
   "source": [
    "import numpy as np\n",
    "import pandas as pd"
   ]
  },
  {
   "cell_type": "code",
   "execution_count": 2,
   "metadata": {},
   "outputs": [],
   "source": [
    "from irec.environment.loader import FullData"
   ]
  },
  {
   "cell_type": "code",
   "execution_count": 3,
   "metadata": {},
   "outputs": [],
   "source": [
    "from irec.recommendation.agents import SimpleAgent\n",
    "from irec.recommendation.agents.action_selection_policies import ASPEGreedy, ASPGreedy"
   ]
  },
  {
   "cell_type": "code",
   "execution_count": 4,
   "metadata": {},
   "outputs": [],
   "source": [
    "from irec.recommendation.agents.value_functions import *\n",
    "# from irec.recommendation.agents.value_functions.nicf import NICF"
   ]
  },
  {
   "cell_type": "code",
   "execution_count": 5,
   "metadata": {},
   "outputs": [],
   "source": [
    "import sys\n",
    "sys.path.append(\"..\")\n",
    "from wscb.value_function import WSCB"
   ]
  },
  {
   "cell_type": "code",
   "execution_count": 6,
   "metadata": {},
   "outputs": [],
   "source": [
    "from irec.offline_experiments.evaluation_policies import FixedInteraction\n",
    "from irec.offline_experiments.metric_evaluators import UserCumulativeInteraction, StageIterations\n",
    "from irec.offline_experiments.metrics import Hits"
   ]
  },
  {
   "cell_type": "code",
   "execution_count": 7,
   "metadata": {},
   "outputs": [
    {
     "name": "stdout",
     "output_type": "stream",
     "text": [
      "\n",
      "Applying splitting strategy: temporal\n",
      "\n",
      "Test shape: (16892, 4)\n",
      "Train shape: (83108, 4)\n"
     ]
    }
   ],
   "source": [
    "# Dataset\n",
    "dataset = {\n",
    "    'path': \"../dataset/MovieLens 100k/ratings.csv\",\n",
    "    'random_seed': 0,\n",
    "    'file_delimiter': \",\",\n",
    "    'skip_head': True\n",
    "}\n",
    "# Splitting\n",
    "splitting = {'strategy': \"temporal\", 'train_size': 0.8, 'test_consumes': 5}\n",
    "# Loader\n",
    "loader = FullData(dataset, splitting)\n",
    "train_dataset, test_dataset, _, _ = loader.process()"
   ]
  },
  {
   "cell_type": "code",
   "execution_count": 8,
   "metadata": {},
   "outputs": [],
   "source": [
    "parameters = {\n",
    "    \"Random\": {},\n",
    "    \"MostPopular\": {},\n",
    "    \"UCB\": {\"c\": 0.25},\n",
    "    \"ThompsonSampling\": {\"alpha_0\": 1, \"beta_0\": 100},\n",
    "    \"EGreedy\": {\"epsilon\": 0.1},\n",
    "    \"LinearUCB\": {\"alpha\": 1.0, \"item_var\": 0.01, \"iterations\": 20, \"num_lat\": 20, \"stop_criteria\": 0.0009, \"user_var\": 0.01, \"var\": 0.05},\n",
    "    \"GLM_UCB\": {\"c\": 4, \"item_var\": 0.01, \"iterations\": 20, \"num_lat\": 10, \"stop_criteria\": 0.0009, \"user_var\": 0.01, \"var\": 0.05},\n",
    "    # \"NICF\": {\"batch\": 256, \"clip_param\": 0.2, \"dropout_rate\": 0.01, \"gamma\": 0.0, \"inner_epoch\": 200, \"latent_factor\": 10, \"learning_rate\": 0.001, \"num_blocks\": 1, \"num_heads\": 2, \"restore_model\": False, \"rnn_layer\": 1, \"time_step\": 100, \"training_epoch\": 10000},\n",
    "    \"PTS\": {\"num_lat\": 20, \"num_particles\": 5, \"var\": 0.5, \"var_u\": 1.0, \"var_v\": 1.0},\n",
    "    \"ICTRTS\": {\"num_lat\": 2, \"num_particles\": 5},\n",
    "    \"ClusterBandit\": {\"B\": 5, \"C\": 0.5, \"D\": 3, \"num_clusters\": 4, \"num_lat\": 10},\n",
    "    \"WSCB\": {\"alpha\": 0.75, \"num_lat\": 10}\n",
    "}"
   ]
  },
  {
   "cell_type": "code",
   "execution_count": 9,
   "metadata": {},
   "outputs": [],
   "source": [
    "agents = {}\n",
    "for agent_name, prmt in parameters.items():\n",
    "    value_function = eval(agent_name)(**prmt)\n",
    "    action_selection_policy = ASPEGreedy(**prmt) if agent_name == \"EGreedy\" else ASPGreedy()\n",
    "    agent = SimpleAgent(value_function, action_selection_policy, name=agent_name)\n",
    "    agents[agent_name] = agent"
   ]
  },
  {
   "cell_type": "code",
   "execution_count": 10,
   "metadata": {},
   "outputs": [],
   "source": [
    "eval_policy = FixedInteraction(num_interactions=100, interaction_size=1, save_info=False)"
   ]
  },
  {
   "cell_type": "code",
   "execution_count": 11,
   "metadata": {
    "scrolled": true
   },
   "outputs": [
    {
     "name": "stdout",
     "output_type": "stream",
     "text": [
      "Random\n",
      "Starting Random Training\n",
      "Ended Random Training\n"
     ]
    },
    {
     "name": "stderr",
     "output_type": "stream",
     "text": [
      "Random: 100%|██████████| 18900/18900 [00:02<00:00, 9426.73it/s] \n"
     ]
    },
    {
     "name": "stdout",
     "output_type": "stream",
     "text": [
      "MostPopular\n",
      "Starting MostPopular Training\n",
      "Ended MostPopular Training\n"
     ]
    },
    {
     "name": "stderr",
     "output_type": "stream",
     "text": [
      "MostPopular: 100%|██████████| 18900/18900 [00:02<00:00, 8971.85it/s]\n"
     ]
    },
    {
     "name": "stdout",
     "output_type": "stream",
     "text": [
      "UCB\n",
      "Starting UCB Training\n",
      "Ended UCB Training\n"
     ]
    },
    {
     "name": "stderr",
     "output_type": "stream",
     "text": [
      "UCB: 100%|██████████| 18900/18900 [00:04<00:00, 4205.63it/s]\n"
     ]
    },
    {
     "name": "stdout",
     "output_type": "stream",
     "text": [
      "ThompsonSampling\n",
      "Starting ThompsonSampling Training\n",
      "Ended ThompsonSampling Training\n"
     ]
    },
    {
     "name": "stderr",
     "output_type": "stream",
     "text": [
      "ThompsonSampling: 100%|██████████| 18900/18900 [00:13<00:00, 1383.45it/s]\n"
     ]
    },
    {
     "name": "stdout",
     "output_type": "stream",
     "text": [
      "EGreedy\n",
      "Starting EGreedy Training\n",
      "Ended EGreedy Training\n"
     ]
    },
    {
     "name": "stderr",
     "output_type": "stream",
     "text": [
      "EGreedy: 100%|██████████| 18900/18900 [00:02<00:00, 6693.77it/s]\n"
     ]
    },
    {
     "name": "stdout",
     "output_type": "stream",
     "text": [
      "LinearUCB\n",
      "Starting LinearUCB Training\n"
     ]
    },
    {
     "name": "stderr",
     "output_type": "stream",
     "text": [
      "rmse=0.798: 100%|██████████| 20/20 [00:25<00:00,  1.26s/it]\n"
     ]
    },
    {
     "name": "stdout",
     "output_type": "stream",
     "text": [
      "Ended LinearUCB Training\n"
     ]
    },
    {
     "name": "stderr",
     "output_type": "stream",
     "text": [
      "LinearUCB: 100%|██████████| 18900/18900 [00:18<00:00, 1010.11it/s]\n"
     ]
    },
    {
     "name": "stdout",
     "output_type": "stream",
     "text": [
      "GLM_UCB\n",
      "Starting GLM_UCB Training\n"
     ]
    },
    {
     "name": "stderr",
     "output_type": "stream",
     "text": [
      "rmse=0.833: 100%|██████████| 20/20 [00:14<00:00,  1.37it/s]\n"
     ]
    },
    {
     "name": "stdout",
     "output_type": "stream",
     "text": [
      "Ended GLM_UCB Training\n"
     ]
    },
    {
     "name": "stderr",
     "output_type": "stream",
     "text": [
      "GLM_UCB: 100%|██████████| 18900/18900 [01:52<00:00, 168.02it/s]\n"
     ]
    },
    {
     "name": "stdout",
     "output_type": "stream",
     "text": [
      "PTS\n",
      "Starting PTS Training\n"
     ]
    },
    {
     "name": "stderr",
     "output_type": "stream",
     "text": [
      "100%|██████████| 83108/83108 [00:00<00:00, 218555.59it/s]\n",
      "cur=0.614,last=0.614:  73%|███████▎  | 146/200 [00:03<00:01, 41.15it/s]\n"
     ]
    },
    {
     "name": "stdout",
     "output_type": "stream",
     "text": [
      "Achieved convergence with 147 iterations, saving 146 iteration\n",
      "Ended PTS Training\n"
     ]
    },
    {
     "name": "stderr",
     "output_type": "stream",
     "text": [
      "PTS: 100%|██████████| 18900/18900 [05:10<00:00, 60.91it/s]\n"
     ]
    },
    {
     "name": "stdout",
     "output_type": "stream",
     "text": [
      "ICTRTS\n",
      "Starting ICTRTS Training\n"
     ]
    },
    {
     "name": "stderr",
     "output_type": "stream",
     "text": [
      "100%|██████████| 83108/83108 [02:47<00:00, 496.30it/s]\n"
     ]
    },
    {
     "name": "stdout",
     "output_type": "stream",
     "text": [
      "Ended ICTRTS Training\n"
     ]
    },
    {
     "name": "stderr",
     "output_type": "stream",
     "text": [
      "ICTRTS: 100%|██████████| 18900/18900 [05:25<00:00, 58.04it/s]\n"
     ]
    },
    {
     "name": "stdout",
     "output_type": "stream",
     "text": [
      "ClusterBandit\n",
      "Starting ClusterBandit Training\n",
      "Ended ClusterBandit Training\n"
     ]
    },
    {
     "name": "stderr",
     "output_type": "stream",
     "text": [
      "ClusterBandit: 100%|██████████| 18900/18900 [01:23<00:00, 227.04it/s] \n"
     ]
    },
    {
     "name": "stdout",
     "output_type": "stream",
     "text": [
      "WSCB\n",
      "Starting WSCB Training\n",
      "0.0 1.0\n",
      "Ended WSCB Training\n"
     ]
    },
    {
     "name": "stderr",
     "output_type": "stream",
     "text": [
      "WSCB: 100%|██████████| 18900/18900 [00:14<00:00, 1287.75it/s]\n"
     ]
    }
   ],
   "source": [
    "interactions = {}\n",
    "for agent_name, agent in agents.items():\n",
    "    print(agent_name)\n",
    "    agent_interactions, action_info = eval_policy.evaluate(agent, train_dataset, test_dataset)\n",
    "    interactions[agent_name] = agent_interactions"
   ]
  },
  {
   "cell_type": "code",
   "execution_count": 12,
   "metadata": {},
   "outputs": [],
   "source": [
    "# Cumulative Evaluation Setup\n",
    "evaluator = UserCumulativeInteraction(\n",
    "    ground_truth_dataset=test_dataset,\n",
    "    num_interactions=100,\n",
    "    interaction_size=1,\n",
    "    interactions_to_evaluate=[5, 10, 20, 50, 100],\n",
    "    relevance_evaluator_threshold=3.99\n",
    ")"
   ]
  },
  {
   "cell_type": "code",
   "execution_count": 13,
   "metadata": {
    "scrolled": true
   },
   "outputs": [
    {
     "name": "stdout",
     "output_type": "stream",
     "text": [
      "\n",
      "Evaluating Random\n",
      "\n",
      "Computing interaction 5 with UserCumulativeInteraction\n",
      "Computing interaction 10 with UserCumulativeInteraction\n",
      "Computing interaction 20 with UserCumulativeInteraction\n",
      "Computing interaction 50 with UserCumulativeInteraction\n",
      "Computing interaction 100 with UserCumulativeInteraction\n",
      "UserCumulativeInteraction spent 1.22 seconds executing Hits metric\n",
      "\n",
      "Evaluating MostPopular\n",
      "\n",
      "Computing interaction 5 with UserCumulativeInteraction\n",
      "Computing interaction 10 with UserCumulativeInteraction\n",
      "Computing interaction 20 with UserCumulativeInteraction\n",
      "Computing interaction 50 with UserCumulativeInteraction\n",
      "Computing interaction 100 with UserCumulativeInteraction\n",
      "UserCumulativeInteraction spent 0.75 seconds executing Hits metric\n",
      "\n",
      "Evaluating UCB\n",
      "\n",
      "Computing interaction 5 with UserCumulativeInteraction\n",
      "Computing interaction 10 with UserCumulativeInteraction\n",
      "Computing interaction 20 with UserCumulativeInteraction\n",
      "Computing interaction 50 with UserCumulativeInteraction\n",
      "Computing interaction 100 with UserCumulativeInteraction\n",
      "UserCumulativeInteraction spent 0.61 seconds executing Hits metric\n",
      "\n",
      "Evaluating ThompsonSampling\n",
      "\n",
      "Computing interaction 5 with UserCumulativeInteraction\n",
      "Computing interaction 10 with UserCumulativeInteraction\n",
      "Computing interaction 20 with UserCumulativeInteraction\n",
      "Computing interaction 50 with UserCumulativeInteraction\n",
      "Computing interaction 100 with UserCumulativeInteraction\n",
      "UserCumulativeInteraction spent 0.49 seconds executing Hits metric\n",
      "\n",
      "Evaluating EGreedy\n",
      "\n",
      "Computing interaction 5 with UserCumulativeInteraction\n",
      "Computing interaction 10 with UserCumulativeInteraction\n",
      "Computing interaction 20 with UserCumulativeInteraction\n",
      "Computing interaction 50 with UserCumulativeInteraction\n",
      "Computing interaction 100 with UserCumulativeInteraction\n",
      "UserCumulativeInteraction spent 0.38 seconds executing Hits metric\n",
      "\n",
      "Evaluating LinearUCB\n",
      "\n",
      "Computing interaction 5 with UserCumulativeInteraction\n",
      "Computing interaction 10 with UserCumulativeInteraction\n",
      "Computing interaction 20 with UserCumulativeInteraction\n",
      "Computing interaction 50 with UserCumulativeInteraction\n",
      "Computing interaction 100 with UserCumulativeInteraction\n",
      "UserCumulativeInteraction spent 0.42 seconds executing Hits metric\n",
      "\n",
      "Evaluating GLM_UCB\n",
      "\n",
      "Computing interaction 5 with UserCumulativeInteraction\n",
      "Computing interaction 10 with UserCumulativeInteraction\n",
      "Computing interaction 20 with UserCumulativeInteraction\n",
      "Computing interaction 50 with UserCumulativeInteraction\n",
      "Computing interaction 100 with UserCumulativeInteraction\n",
      "UserCumulativeInteraction spent 0.58 seconds executing Hits metric\n",
      "\n",
      "Evaluating PTS\n",
      "\n",
      "Computing interaction 5 with UserCumulativeInteraction\n",
      "Computing interaction 10 with UserCumulativeInteraction\n",
      "Computing interaction 20 with UserCumulativeInteraction\n",
      "Computing interaction 50 with UserCumulativeInteraction\n",
      "Computing interaction 100 with UserCumulativeInteraction\n",
      "UserCumulativeInteraction spent 0.92 seconds executing Hits metric\n",
      "\n",
      "Evaluating ICTRTS\n",
      "\n",
      "Computing interaction 5 with UserCumulativeInteraction\n",
      "Computing interaction 10 with UserCumulativeInteraction\n",
      "Computing interaction 20 with UserCumulativeInteraction\n",
      "Computing interaction 50 with UserCumulativeInteraction\n",
      "Computing interaction 100 with UserCumulativeInteraction\n",
      "UserCumulativeInteraction spent 0.85 seconds executing Hits metric\n",
      "\n",
      "Evaluating ClusterBandit\n",
      "\n",
      "Computing interaction 5 with UserCumulativeInteraction\n",
      "Computing interaction 10 with UserCumulativeInteraction\n",
      "Computing interaction 20 with UserCumulativeInteraction\n",
      "Computing interaction 50 with UserCumulativeInteraction\n",
      "Computing interaction 100 with UserCumulativeInteraction\n",
      "UserCumulativeInteraction spent 0.63 seconds executing Hits metric\n",
      "\n",
      "Evaluating WSCB\n",
      "\n",
      "Computing interaction 5 with UserCumulativeInteraction\n",
      "Computing interaction 10 with UserCumulativeInteraction\n",
      "Computing interaction 20 with UserCumulativeInteraction\n",
      "Computing interaction 50 with UserCumulativeInteraction\n",
      "Computing interaction 100 with UserCumulativeInteraction\n",
      "UserCumulativeInteraction spent 0.53 seconds executing Hits metric\n"
     ]
    }
   ],
   "source": [
    "# Getting the results\n",
    "cumulative_results = {}\n",
    "for agent_name, agent_results in interactions.items():\n",
    "    print(f\"\\nEvaluating {agent_name}\\n\")\n",
    "    hits_values = evaluator.evaluate(metric_class=Hits, results=agent_results)\n",
    "    cumulative_results[agent_name] = hits_values"
   ]
  },
  {
   "cell_type": "code",
   "execution_count": 14,
   "metadata": {},
   "outputs": [
    {
     "data": {
      "text/html": [
       "<div>\n",
       "<style scoped>\n",
       "    .dataframe tbody tr th:only-of-type {\n",
       "        vertical-align: middle;\n",
       "    }\n",
       "\n",
       "    .dataframe tbody tr th {\n",
       "        vertical-align: top;\n",
       "    }\n",
       "\n",
       "    .dataframe thead th {\n",
       "        text-align: right;\n",
       "    }\n",
       "</style>\n",
       "<table border=\"1\" class=\"dataframe\">\n",
       "  <thead>\n",
       "    <tr style=\"text-align: right;\">\n",
       "      <th></th>\n",
       "      <th>5</th>\n",
       "      <th>10</th>\n",
       "      <th>20</th>\n",
       "      <th>50</th>\n",
       "      <th>100</th>\n",
       "    </tr>\n",
       "    <tr>\n",
       "      <th>Model</th>\n",
       "      <th></th>\n",
       "      <th></th>\n",
       "      <th></th>\n",
       "      <th></th>\n",
       "      <th></th>\n",
       "    </tr>\n",
       "  </thead>\n",
       "  <tbody>\n",
       "    <tr>\n",
       "      <th>Random</th>\n",
       "      <td>0.174603</td>\n",
       "      <td>0.37037</td>\n",
       "      <td>0.624339</td>\n",
       "      <td>1.529101</td>\n",
       "      <td>2.984127</td>\n",
       "    </tr>\n",
       "    <tr>\n",
       "      <th>MostPopular</th>\n",
       "      <td>1.666667</td>\n",
       "      <td>2.915344</td>\n",
       "      <td>5.137566</td>\n",
       "      <td>10.37037</td>\n",
       "      <td>16.873016</td>\n",
       "    </tr>\n",
       "    <tr>\n",
       "      <th>UCB</th>\n",
       "      <td>1.074074</td>\n",
       "      <td>2.074074</td>\n",
       "      <td>3.772487</td>\n",
       "      <td>8.275132</td>\n",
       "      <td>14.005291</td>\n",
       "    </tr>\n",
       "    <tr>\n",
       "      <th>ThompsonSampling</th>\n",
       "      <td>1.619048</td>\n",
       "      <td>2.94709</td>\n",
       "      <td>5.132275</td>\n",
       "      <td>10.417989</td>\n",
       "      <td>17.513228</td>\n",
       "    </tr>\n",
       "    <tr>\n",
       "      <th>EGreedy</th>\n",
       "      <td>1.047619</td>\n",
       "      <td>2.0</td>\n",
       "      <td>3.724868</td>\n",
       "      <td>8.095238</td>\n",
       "      <td>13.825397</td>\n",
       "    </tr>\n",
       "    <tr>\n",
       "      <th>LinearUCB</th>\n",
       "      <td>1.878307</td>\n",
       "      <td>3.566138</td>\n",
       "      <td>6.529101</td>\n",
       "      <td>14.074074</td>\n",
       "      <td>22.936508</td>\n",
       "    </tr>\n",
       "    <tr>\n",
       "      <th>GLM_UCB</th>\n",
       "      <td>1.232804</td>\n",
       "      <td>2.148148</td>\n",
       "      <td>5.100529</td>\n",
       "      <td>12.116402</td>\n",
       "      <td>20.941799</td>\n",
       "    </tr>\n",
       "    <tr>\n",
       "      <th>PTS</th>\n",
       "      <td>0.412698</td>\n",
       "      <td>0.698413</td>\n",
       "      <td>1.248677</td>\n",
       "      <td>4.407407</td>\n",
       "      <td>11.428571</td>\n",
       "    </tr>\n",
       "    <tr>\n",
       "      <th>ICTRTS</th>\n",
       "      <td>0.084656</td>\n",
       "      <td>0.26455</td>\n",
       "      <td>0.883598</td>\n",
       "      <td>4.216931</td>\n",
       "      <td>9.529101</td>\n",
       "    </tr>\n",
       "    <tr>\n",
       "      <th>ClusterBandit</th>\n",
       "      <td>1.068783</td>\n",
       "      <td>2.507937</td>\n",
       "      <td>4.883598</td>\n",
       "      <td>8.359788</td>\n",
       "      <td>13.830688</td>\n",
       "    </tr>\n",
       "    <tr>\n",
       "      <th>WSCB</th>\n",
       "      <td>1.375661</td>\n",
       "      <td>2.37037</td>\n",
       "      <td>6.634921</td>\n",
       "      <td>15.904762</td>\n",
       "      <td>25.529101</td>\n",
       "    </tr>\n",
       "  </tbody>\n",
       "</table>\n",
       "</div>"
      ],
      "text/plain": [
       "                         5        10        20         50        100\n",
       "Model                                                               \n",
       "Random            0.174603   0.37037  0.624339   1.529101   2.984127\n",
       "MostPopular       1.666667  2.915344  5.137566   10.37037  16.873016\n",
       "UCB               1.074074  2.074074  3.772487   8.275132  14.005291\n",
       "ThompsonSampling  1.619048   2.94709  5.132275  10.417989  17.513228\n",
       "EGreedy           1.047619       2.0  3.724868   8.095238  13.825397\n",
       "LinearUCB         1.878307  3.566138  6.529101  14.074074  22.936508\n",
       "GLM_UCB           1.232804  2.148148  5.100529  12.116402  20.941799\n",
       "PTS               0.412698  0.698413  1.248677   4.407407  11.428571\n",
       "ICTRTS            0.084656   0.26455  0.883598   4.216931   9.529101\n",
       "ClusterBandit     1.068783  2.507937  4.883598   8.359788  13.830688\n",
       "WSCB              1.375661   2.37037  6.634921  15.904762  25.529101"
      ]
     },
     "execution_count": 14,
     "metadata": {},
     "output_type": "execute_result"
    }
   ],
   "source": [
    "df_cumulative = pd.DataFrame(columns=[\"Model\", 5, 10, 20, 50, 100])\n",
    "df_cumulative.Model = list(cumulative_results.keys())\n",
    "df_cumulative.set_index(\"Model\", inplace=True)\n",
    "for agent_name, results in cumulative_results.items():\n",
    "    df_cumulative.loc[agent_name] = [\n",
    "        np.mean(list(metric_values.values())) for metric_values in results\n",
    "    ]\n",
    "df_cumulative"
   ]
  },
  {
   "cell_type": "code",
   "execution_count": 15,
   "metadata": {},
   "outputs": [],
   "source": [
    "# Stage Evaluation Setup\n",
    "evaluator = StageIterations(\n",
    "    ground_truth_dataset=test_dataset,\n",
    "    num_interactions=100,\n",
    "    interaction_size=1,\n",
    "    interactions_to_evaluate=[5, 10, 15, 20, 50, 100],\n",
    "    relevance_evaluator_threshold=3.99\n",
    ")"
   ]
  },
  {
   "cell_type": "code",
   "execution_count": 16,
   "metadata": {
    "scrolled": true
   },
   "outputs": [
    {
     "name": "stdout",
     "output_type": "stream",
     "text": [
      "\n",
      "Evaluating Random\n",
      "\n",
      "Computing iteration 5 with StageIterations\n",
      "Computing iteration 10 with StageIterations\n",
      "Computing iteration 15 with StageIterations\n",
      "Computing iteration 20 with StageIterations\n",
      "Computing iteration 50 with StageIterations\n",
      "Computing iteration 100 with StageIterations\n",
      "StageIterations spent 0.93 seconds executing Hits metric\n",
      "\n",
      "Evaluating MostPopular\n",
      "\n",
      "Computing iteration 5 with StageIterations\n",
      "Computing iteration 10 with StageIterations\n",
      "Computing iteration 15 with StageIterations\n",
      "Computing iteration 20 with StageIterations\n",
      "Computing iteration 50 with StageIterations\n",
      "Computing iteration 100 with StageIterations\n",
      "StageIterations spent 0.46 seconds executing Hits metric\n",
      "\n",
      "Evaluating UCB\n",
      "\n",
      "Computing iteration 5 with StageIterations\n",
      "Computing iteration 10 with StageIterations\n",
      "Computing iteration 15 with StageIterations\n",
      "Computing iteration 20 with StageIterations\n",
      "Computing iteration 50 with StageIterations\n",
      "Computing iteration 100 with StageIterations\n",
      "StageIterations spent 0.39 seconds executing Hits metric\n",
      "\n",
      "Evaluating ThompsonSampling\n",
      "\n",
      "Computing iteration 5 with StageIterations\n",
      "Computing iteration 10 with StageIterations\n",
      "Computing iteration 15 with StageIterations\n",
      "Computing iteration 20 with StageIterations\n",
      "Computing iteration 50 with StageIterations\n",
      "Computing iteration 100 with StageIterations\n",
      "StageIterations spent 0.35 seconds executing Hits metric\n",
      "\n",
      "Evaluating EGreedy\n",
      "\n",
      "Computing iteration 5 with StageIterations\n",
      "Computing iteration 10 with StageIterations\n",
      "Computing iteration 15 with StageIterations\n",
      "Computing iteration 20 with StageIterations\n",
      "Computing iteration 50 with StageIterations\n",
      "Computing iteration 100 with StageIterations\n",
      "StageIterations spent 0.33 seconds executing Hits metric\n",
      "\n",
      "Evaluating LinearUCB\n",
      "\n",
      "Computing iteration 5 with StageIterations\n",
      "Computing iteration 10 with StageIterations\n",
      "Computing iteration 15 with StageIterations\n",
      "Computing iteration 20 with StageIterations\n",
      "Computing iteration 50 with StageIterations\n",
      "Computing iteration 100 with StageIterations\n",
      "StageIterations spent 0.32 seconds executing Hits metric\n",
      "\n",
      "Evaluating GLM_UCB\n",
      "\n",
      "Computing iteration 5 with StageIterations\n",
      "Computing iteration 10 with StageIterations\n",
      "Computing iteration 15 with StageIterations\n",
      "Computing iteration 20 with StageIterations\n",
      "Computing iteration 50 with StageIterations\n",
      "Computing iteration 100 with StageIterations\n",
      "StageIterations spent 0.35 seconds executing Hits metric\n",
      "\n",
      "Evaluating PTS\n",
      "\n",
      "Computing iteration 5 with StageIterations\n",
      "Computing iteration 10 with StageIterations\n",
      "Computing iteration 15 with StageIterations\n",
      "Computing iteration 20 with StageIterations\n",
      "Computing iteration 50 with StageIterations\n",
      "Computing iteration 100 with StageIterations\n",
      "StageIterations spent 0.38 seconds executing Hits metric\n",
      "\n",
      "Evaluating ICTRTS\n",
      "\n",
      "Computing iteration 5 with StageIterations\n",
      "Computing iteration 10 with StageIterations\n",
      "Computing iteration 15 with StageIterations\n",
      "Computing iteration 20 with StageIterations\n",
      "Computing iteration 50 with StageIterations\n",
      "Computing iteration 100 with StageIterations\n",
      "StageIterations spent 0.36 seconds executing Hits metric\n",
      "\n",
      "Evaluating ClusterBandit\n",
      "\n",
      "Computing iteration 5 with StageIterations\n",
      "Computing iteration 10 with StageIterations\n",
      "Computing iteration 15 with StageIterations\n",
      "Computing iteration 20 with StageIterations\n",
      "Computing iteration 50 with StageIterations\n",
      "Computing iteration 100 with StageIterations\n",
      "StageIterations spent 0.41 seconds executing Hits metric\n",
      "\n",
      "Evaluating WSCB\n",
      "\n",
      "Computing iteration 5 with StageIterations\n",
      "Computing iteration 10 with StageIterations\n",
      "Computing iteration 15 with StageIterations\n",
      "Computing iteration 20 with StageIterations\n",
      "Computing iteration 50 with StageIterations\n",
      "Computing iteration 100 with StageIterations\n",
      "StageIterations spent 0.43 seconds executing Hits metric\n"
     ]
    }
   ],
   "source": [
    "# Getting the results\n",
    "stage_results = {}\n",
    "for agent_name, agent_results in interactions.items():\n",
    "    print(f\"\\nEvaluating {agent_name}\\n\")\n",
    "    hits_values = evaluator.evaluate(metric_class=Hits, results=agent_results)\n",
    "    stage_results[agent_name] = hits_values"
   ]
  },
  {
   "cell_type": "code",
   "execution_count": 17,
   "metadata": {
    "scrolled": false
   },
   "outputs": [
    {
     "data": {
      "text/html": [
       "<div>\n",
       "<style scoped>\n",
       "    .dataframe tbody tr th:only-of-type {\n",
       "        vertical-align: middle;\n",
       "    }\n",
       "\n",
       "    .dataframe tbody tr th {\n",
       "        vertical-align: top;\n",
       "    }\n",
       "\n",
       "    .dataframe thead th {\n",
       "        text-align: right;\n",
       "    }\n",
       "</style>\n",
       "<table border=\"1\" class=\"dataframe\">\n",
       "  <thead>\n",
       "    <tr style=\"text-align: right;\">\n",
       "      <th></th>\n",
       "      <th>1-5</th>\n",
       "      <th>6-10</th>\n",
       "      <th>11-15</th>\n",
       "      <th>16-20</th>\n",
       "      <th>21-50</th>\n",
       "      <th>51-100</th>\n",
       "    </tr>\n",
       "    <tr>\n",
       "      <th>Model</th>\n",
       "      <th></th>\n",
       "      <th></th>\n",
       "      <th></th>\n",
       "      <th></th>\n",
       "      <th></th>\n",
       "      <th></th>\n",
       "    </tr>\n",
       "  </thead>\n",
       "  <tbody>\n",
       "    <tr>\n",
       "      <th>Random</th>\n",
       "      <td>0.174603</td>\n",
       "      <td>0.195767</td>\n",
       "      <td>0.111111</td>\n",
       "      <td>0.142857</td>\n",
       "      <td>0.904762</td>\n",
       "      <td>1.455026</td>\n",
       "    </tr>\n",
       "    <tr>\n",
       "      <th>MostPopular</th>\n",
       "      <td>1.666667</td>\n",
       "      <td>1.248677</td>\n",
       "      <td>1.248677</td>\n",
       "      <td>0.973545</td>\n",
       "      <td>5.232804</td>\n",
       "      <td>6.502646</td>\n",
       "    </tr>\n",
       "    <tr>\n",
       "      <th>UCB</th>\n",
       "      <td>1.074074</td>\n",
       "      <td>1.0</td>\n",
       "      <td>0.910053</td>\n",
       "      <td>0.78836</td>\n",
       "      <td>4.502646</td>\n",
       "      <td>5.730159</td>\n",
       "    </tr>\n",
       "    <tr>\n",
       "      <th>ThompsonSampling</th>\n",
       "      <td>1.619048</td>\n",
       "      <td>1.328042</td>\n",
       "      <td>1.132275</td>\n",
       "      <td>1.05291</td>\n",
       "      <td>5.285714</td>\n",
       "      <td>7.095238</td>\n",
       "    </tr>\n",
       "    <tr>\n",
       "      <th>EGreedy</th>\n",
       "      <td>1.047619</td>\n",
       "      <td>0.952381</td>\n",
       "      <td>0.920635</td>\n",
       "      <td>0.804233</td>\n",
       "      <td>4.37037</td>\n",
       "      <td>5.730159</td>\n",
       "    </tr>\n",
       "    <tr>\n",
       "      <th>LinearUCB</th>\n",
       "      <td>1.878307</td>\n",
       "      <td>1.687831</td>\n",
       "      <td>1.560847</td>\n",
       "      <td>1.402116</td>\n",
       "      <td>7.544974</td>\n",
       "      <td>8.862434</td>\n",
       "    </tr>\n",
       "    <tr>\n",
       "      <th>GLM_UCB</th>\n",
       "      <td>1.232804</td>\n",
       "      <td>0.915344</td>\n",
       "      <td>1.470899</td>\n",
       "      <td>1.481481</td>\n",
       "      <td>7.015873</td>\n",
       "      <td>8.825397</td>\n",
       "    </tr>\n",
       "    <tr>\n",
       "      <th>PTS</th>\n",
       "      <td>0.412698</td>\n",
       "      <td>0.285714</td>\n",
       "      <td>0.269841</td>\n",
       "      <td>0.280423</td>\n",
       "      <td>3.15873</td>\n",
       "      <td>7.021164</td>\n",
       "    </tr>\n",
       "    <tr>\n",
       "      <th>ICTRTS</th>\n",
       "      <td>0.084656</td>\n",
       "      <td>0.179894</td>\n",
       "      <td>0.238095</td>\n",
       "      <td>0.380952</td>\n",
       "      <td>3.333333</td>\n",
       "      <td>5.312169</td>\n",
       "    </tr>\n",
       "    <tr>\n",
       "      <th>ClusterBandit</th>\n",
       "      <td>1.068783</td>\n",
       "      <td>1.439153</td>\n",
       "      <td>1.291005</td>\n",
       "      <td>1.084656</td>\n",
       "      <td>3.47619</td>\n",
       "      <td>5.470899</td>\n",
       "    </tr>\n",
       "    <tr>\n",
       "      <th>WSCB</th>\n",
       "      <td>1.375661</td>\n",
       "      <td>0.994709</td>\n",
       "      <td>2.31746</td>\n",
       "      <td>1.94709</td>\n",
       "      <td>9.269841</td>\n",
       "      <td>9.624339</td>\n",
       "    </tr>\n",
       "  </tbody>\n",
       "</table>\n",
       "</div>"
      ],
      "text/plain": [
       "                       1-5      6-10     11-15     16-20     21-50    51-100\n",
       "Model                                                                       \n",
       "Random            0.174603  0.195767  0.111111  0.142857  0.904762  1.455026\n",
       "MostPopular       1.666667  1.248677  1.248677  0.973545  5.232804  6.502646\n",
       "UCB               1.074074       1.0  0.910053   0.78836  4.502646  5.730159\n",
       "ThompsonSampling  1.619048  1.328042  1.132275   1.05291  5.285714  7.095238\n",
       "EGreedy           1.047619  0.952381  0.920635  0.804233   4.37037  5.730159\n",
       "LinearUCB         1.878307  1.687831  1.560847  1.402116  7.544974  8.862434\n",
       "GLM_UCB           1.232804  0.915344  1.470899  1.481481  7.015873  8.825397\n",
       "PTS               0.412698  0.285714  0.269841  0.280423   3.15873  7.021164\n",
       "ICTRTS            0.084656  0.179894  0.238095  0.380952  3.333333  5.312169\n",
       "ClusterBandit     1.068783  1.439153  1.291005  1.084656   3.47619  5.470899\n",
       "WSCB              1.375661  0.994709   2.31746   1.94709  9.269841  9.624339"
      ]
     },
     "execution_count": 17,
     "metadata": {},
     "output_type": "execute_result"
    }
   ],
   "source": [
    "df_stage = pd.DataFrame(columns=[\"Model\", \"1-5\", \"6-10\", \"11-15\", \"16-20\", \"21-50\", \"51-100\"])\n",
    "df_stage.Model = list(stage_results.keys())\n",
    "df_stage.set_index(\"Model\", inplace=True)\n",
    "for agent_name, results in stage_results.items():\n",
    "    df_stage.loc[agent_name] = [\n",
    "        np.mean(list(metric_values.values())) for metric_values in results\n",
    "    ]\n",
    "df_stage"
   ]
  }
 ],
 "metadata": {
  "kernelspec": {
   "display_name": "Python 3 (ipykernel)",
   "language": "python",
   "name": "python3"
  },
  "language_info": {
   "codemirror_mode": {
    "name": "ipython",
    "version": 3
   },
   "file_extension": ".py",
   "mimetype": "text/x-python",
   "name": "python",
   "nbconvert_exporter": "python",
   "pygments_lexer": "ipython3",
   "version": "3.8.10"
  }
 },
 "nbformat": 4,
 "nbformat_minor": 1
}
