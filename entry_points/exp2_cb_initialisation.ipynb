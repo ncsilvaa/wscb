{
 "cells": [
  {
   "cell_type": "code",
   "execution_count": 1,
   "metadata": {},
   "outputs": [],
   "source": [
    "import sys\n",
    "sys.path.append(\"..\")"
   ]
  },
  {
   "cell_type": "code",
   "execution_count": 2,
   "metadata": {},
   "outputs": [],
   "source": [
    "from irec.environment.loader.full_data import FullData"
   ]
  },
  {
   "cell_type": "code",
   "execution_count": 3,
   "metadata": {},
   "outputs": [],
   "source": [
    "from irec.recommendation.agents.simple_agent import SimpleAgent\n",
    "from irec.recommendation.agents.action_selection_policies.egreedy import ASPEGreedy\n",
    "from irec.recommendation.agents.value_functions.linear_egreedy import LinearEGreedy"
   ]
  },
  {
   "cell_type": "code",
   "execution_count": 4,
   "metadata": {},
   "outputs": [],
   "source": [
    "from cb_initialisation.evaluation_policy import PercentageInteraction\n",
    "from irec.offline_experiments.metric_evaluators.user_cumulative_interaction import UserCumulativeInteraction\n",
    "from irec.offline_experiments.metrics.precision import Precision"
   ]
  },
  {
   "cell_type": "code",
   "execution_count": 5,
   "metadata": {},
   "outputs": [
    {
     "name": "stdout",
     "output_type": "stream",
     "text": [
      "\n",
      "Applying splitting strategy: temporal\n",
      "\n",
      "Test shape: (16892, 4)\n",
      "Train shape: (83108, 4)\n"
     ]
    }
   ],
   "source": [
    "# Dataset\n",
    "dataset = {\n",
    "    'path': \"../dataset/MovieLens 100k/ratings.csv\",\n",
    "    'random_seed': 0,\n",
    "    'file_delimiter': \",\",\n",
    "    'skip_head': True\n",
    "}\n",
    "# Splitting\n",
    "splitting = {'strategy': \"temporal\", 'train_size': 0.8, 'test_consumes': 5}\n",
    "# Loader\n",
    "loader = FullData(dataset, splitting)\n",
    "train_dataset, test_dataset, _, _ = loader.process()\n",
    "# Value Function\n",
    "value_function = LinearEGreedy(\n",
    "    item_var=0.01,\n",
    "    iterations=20,\n",
    "    num_lat=10,\n",
    "    stop_criteria=0.0009,\n",
    "    user_var=0.01,\n",
    "    var=0.05\n",
    ")\n",
    "# Action Selection Policy\n",
    "greedy_selection = ASPEGreedy(epsilon=0.001)\n",
    "# Agent\n",
    "agent = SimpleAgent(value_function, greedy_selection, name=\"EGreedy\")\n",
    "# Evaluation Policy\n",
    "eval_policy = PercentageInteraction(num_interactions=10, interaction_size=1)"
   ]
  },
  {
   "cell_type": "code",
   "execution_count": 6,
   "metadata": {},
   "outputs": [
    {
     "name": "stdout",
     "output_type": "stream",
     "text": [
      "\n",
      "dataset MovieLens 100k\n",
      "threshold 1\n",
      "num_interactions 10\n",
      "interaction_size 1\n"
     ]
    },
    {
     "name": "stderr",
     "output_type": "stream",
     "text": [
      "1/40 Stage 1 - BestRated 0.1: 100%|████████████████████| 189/189 [00:00<00:00, 2105.94it/s]                                                                              \n",
      "rmse=0.833: 100%|████████████████████| 20/20 [00:08<00:00,  2.45it/s]                                                                                                    \n",
      "1/40 Stage 2 - MAB Problem: 100%|████████████████████| 189/189 [00:01<00:00, 153.54it/s]                                                                                 \n",
      "2/40 Stage 1 - BestRated 0.2: 100%|████████████████████| 189/189 [00:00<00:00, 725.46it/s]                                                                               \n",
      "rmse=0.830: 100%|████████████████████| 20/20 [00:08<00:00,  2.27it/s]                                                                                                    \n",
      "2/40 Stage 2 - MAB Problem: 100%|████████████████████| 189/189 [00:01<00:00, 115.52it/s]                                                                                 \n",
      "3/40 Stage 1 - BestRated 0.3: 100%|████████████████████| 189/189 [00:00<00:00, 539.91it/s]                                                                               \n",
      "rmse=0.827: 100%|████████████████████| 20/20 [00:08<00:00,  2.36it/s]                                                                                                    \n",
      "3/40 Stage 2 - MAB Problem: 100%|████████████████████| 189/189 [00:01<00:00, 160.42it/s]                                                                                 \n",
      "4/40 Stage 1 - BestRated 0.4: 100%|████████████████████| 189/189 [00:00<00:00, 366.95it/s]                                                                               \n",
      "rmse=0.822: 100%|████████████████████| 20/20 [00:08<00:00,  2.39it/s]                                                                                                    \n",
      "4/40 Stage 2 - MAB Problem: 100%|████████████████████| 189/189 [00:02<00:00, 91.01it/s]                                                                                  \n",
      "5/40 Stage 1 - BestRated 0.5: 100%|████████████████████| 189/189 [00:00<00:00, 257.91it/s]                                                                               \n",
      "rmse=0.821: 100%|████████████████████| 20/20 [00:08<00:00,  2.27it/s]                                                                                                    \n",
      "5/40 Stage 2 - MAB Problem: 100%|████████████████████| 189/189 [00:01<00:00, 170.06it/s]                                                                                 \n",
      "6/40 Stage 1 - BestRated 0.6: 100%|████████████████████| 189/189 [00:00<00:00, 251.00it/s]                                                                               \n",
      "rmse=0.819: 100%|████████████████████| 20/20 [00:08<00:00,  2.44it/s]                                                                                                    \n",
      "6/40 Stage 2 - MAB Problem: 100%|████████████████████| 189/189 [00:00<00:00, 208.77it/s]                                                                                 \n",
      "7/40 Stage 1 - BestRated 0.7: 100%|████████████████████| 189/189 [00:01<00:00, 176.06it/s]                                                                               \n",
      "rmse=0.817: 100%|████████████████████| 20/20 [00:09<00:00,  2.15it/s]                                                                                                    \n",
      "7/40 Stage 2 - MAB Problem: 100%|████████████████████| 189/189 [00:00<00:00, 219.04it/s]                                                                                 \n",
      "8/40 Stage 1 - BestRated 0.8: 100%|████████████████████| 189/189 [00:01<00:00, 131.21it/s]                                                                               \n",
      "rmse=0.814: 100%|████████████████████| 20/20 [00:09<00:00,  2.09it/s]                                                                                                    \n",
      "8/40 Stage 2 - MAB Problem: 100%|████████████████████| 189/189 [00:02<00:00, 82.39it/s]                                                                                  \n",
      "9/40 Stage 1 - Entropy 0.1: 100%|████████████████████| 189/189 [00:00<00:00, 357.08it/s]                                                                                 \n",
      "rmse=0.838: 100%|████████████████████| 20/20 [00:09<00:00,  2.15it/s]                                                                                                    \n",
      "9/40 Stage 2 - MAB Problem: 100%|████████████████████| 189/189 [00:01<00:00, 166.21it/s]                                                                                 \n",
      "10/40 Stage 1 - Entropy 0.2: 100%|████████████████████| 189/189 [00:00<00:00, 209.26it/s]                                                                                \n",
      "rmse=0.837: 100%|████████████████████| 20/20 [00:09<00:00,  2.14it/s]                                                                                                    \n",
      "10/40 Stage 2 - MAB Problem: 100%|████████████████████| 189/189 [00:01<00:00, 153.25it/s]                                                                                \n",
      "11/40 Stage 1 - Entropy 0.3: 100%|████████████████████| 189/189 [00:01<00:00, 130.72it/s]                                                                                \n",
      "rmse=0.837: 100%|████████████████████| 20/20 [00:08<00:00,  2.30it/s]                                                                                                    \n",
      "11/40 Stage 2 - MAB Problem: 100%|████████████████████| 189/189 [00:01<00:00, 163.78it/s]                                                                                \n",
      "12/40 Stage 1 - Entropy 0.4: 100%|████████████████████| 189/189 [00:01<00:00, 106.54it/s]                                                                                \n",
      "rmse=0.830: 100%|████████████████████| 20/20 [00:09<00:00,  2.05it/s]                                                                                                    \n",
      "12/40 Stage 2 - MAB Problem: 100%|████████████████████| 189/189 [00:01<00:00, 169.60it/s]                                                                                \n",
      "13/40 Stage 1 - Entropy 0.5: 100%|████████████████████| 189/189 [00:02<00:00, 90.72it/s]                                                                                 \n",
      "rmse=0.830: 100%|████████████████████| 20/20 [00:08<00:00,  2.38it/s]                                                                                                    \n",
      "13/40 Stage 2 - MAB Problem: 100%|████████████████████| 189/189 [00:01<00:00, 156.82it/s]                                                                                \n",
      "14/40 Stage 1 - Entropy 0.6: 100%|████████████████████| 189/189 [00:02<00:00, 88.15it/s]                                                                                 \n",
      "rmse=0.824: 100%|████████████████████| 20/20 [00:08<00:00,  2.25it/s]                                                                                                    \n",
      "14/40 Stage 2 - MAB Problem: 100%|████████████████████| 189/189 [00:01<00:00, 169.82it/s]                                                                                \n",
      "15/40 Stage 1 - Entropy 0.7: 100%|████████████████████| 189/189 [00:02<00:00, 73.32it/s]                                                                                 \n",
      "rmse=0.822: 100%|████████████████████| 20/20 [00:09<00:00,  2.19it/s]                                                                                                    \n",
      "15/40 Stage 2 - MAB Problem: 100%|████████████████████| 189/189 [00:01<00:00, 148.36it/s]                                                                                \n",
      "16/40 Stage 1 - Entropy 0.8: 100%|████████████████████| 189/189 [00:02<00:00, 64.41it/s]                                                                                 \n",
      "rmse=0.819: 100%|████████████████████| 20/20 [00:08<00:00,  2.49it/s]                                                                                                    \n",
      "16/40 Stage 2 - MAB Problem: 100%|████████████████████| 189/189 [00:01<00:00, 120.53it/s]                                                                                \n"
     ]
    },
    {
     "name": "stderr",
     "output_type": "stream",
     "text": [
      "17/40 Stage 1 - Popularity 0.1: 100%|████████████████████| 189/189 [00:00<00:00, 1729.65it/s]                                                                            \n",
      "rmse=0.834: 100%|████████████████████| 20/20 [00:08<00:00,  2.42it/s]                                                                                                    \n",
      "17/40 Stage 2 - MAB Problem: 100%|████████████████████| 189/189 [00:01<00:00, 165.42it/s]                                                                                \n",
      "18/40 Stage 1 - Popularity 0.2: 100%|████████████████████| 189/189 [00:00<00:00, 807.86it/s]                                                                             \n",
      "rmse=0.829: 100%|████████████████████| 20/20 [00:08<00:00,  2.46it/s]                                                                                                    \n",
      "18/40 Stage 2 - MAB Problem: 100%|████████████████████| 189/189 [00:00<00:00, 195.89it/s]                                                                                \n",
      "19/40 Stage 1 - Popularity 0.3: 100%|████████████████████| 189/189 [00:00<00:00, 649.97it/s]                                                                             \n",
      "rmse=0.827: 100%|████████████████████| 20/20 [00:08<00:00,  2.45it/s]                                                                                                    \n",
      "19/40 Stage 2 - MAB Problem: 100%|████████████████████| 189/189 [00:00<00:00, 193.07it/s]                                                                                \n",
      "20/40 Stage 1 - Popularity 0.4: 100%|████████████████████| 189/189 [00:00<00:00, 336.39it/s]                                                                             \n",
      "rmse=0.823: 100%|████████████████████| 20/20 [00:08<00:00,  2.34it/s]                                                                                                    \n",
      "20/40 Stage 2 - MAB Problem: 100%|████████████████████| 189/189 [00:00<00:00, 222.58it/s]                                                                                \n",
      "21/40 Stage 1 - Popularity 0.5: 100%|████████████████████| 189/189 [00:00<00:00, 292.39it/s]                                                                             \n",
      "rmse=0.821: 100%|████████████████████| 20/20 [00:07<00:00,  2.52it/s]                                                                                                    \n",
      "21/40 Stage 2 - MAB Problem: 100%|████████████████████| 189/189 [00:00<00:00, 233.63it/s]                                                                                \n",
      "22/40 Stage 1 - Popularity 0.6: 100%|████████████████████| 189/189 [00:00<00:00, 241.29it/s]                                                                             \n",
      "rmse=0.820: 100%|████████████████████| 20/20 [00:07<00:00,  2.61it/s]                                                                                                    \n",
      "22/40 Stage 2 - MAB Problem: 100%|████████████████████| 189/189 [00:00<00:00, 216.00it/s]                                                                                \n",
      "23/40 Stage 1 - Popularity 0.7: 100%|████████████████████| 189/189 [00:00<00:00, 200.96it/s]                                                                             \n",
      "rmse=0.816: 100%|████████████████████| 20/20 [00:08<00:00,  2.38it/s]                                                                                                    \n",
      "23/40 Stage 2 - MAB Problem: 100%|████████████████████| 189/189 [00:00<00:00, 214.80it/s]                                                                                \n",
      "24/40 Stage 1 - Popularity 0.8: 100%|████████████████████| 189/189 [00:01<00:00, 125.82it/s]                                                                             \n",
      "rmse=0.813: 100%|████████████████████| 20/20 [00:08<00:00,  2.49it/s]                                                                                                    \n",
      "24/40 Stage 2 - MAB Problem: 100%|████████████████████| 189/189 [00:00<00:00, 235.72it/s]                                                                                \n",
      "25/40 Stage 1 - LogPopEnt 0.1: 100%|████████████████████| 189/189 [00:00<00:00, 1089.28it/s]                                                                             \n",
      "rmse=0.835: 100%|████████████████████| 20/20 [00:08<00:00,  2.47it/s]                                                                                                    \n",
      "25/40 Stage 2 - MAB Problem: 100%|████████████████████| 189/189 [00:02<00:00, 89.92it/s]                                                                                 \n",
      "26/40 Stage 1 - LogPopEnt 0.2: 100%|████████████████████| 189/189 [00:00<00:00, 766.30it/s]                                                                              \n",
      "rmse=0.832: 100%|████████████████████| 20/20 [00:08<00:00,  2.23it/s]                                                                                                    \n",
      "26/40 Stage 2 - MAB Problem: 100%|████████████████████| 189/189 [00:01<00:00, 103.54it/s]                                                                                \n",
      "27/40 Stage 1 - LogPopEnt 0.3: 100%|████████████████████| 189/189 [00:00<00:00, 555.67it/s]                                                                              \n",
      "rmse=0.832: 100%|████████████████████| 20/20 [00:09<00:00,  2.00it/s]                                                                                                    \n",
      "27/40 Stage 2 - MAB Problem: 100%|████████████████████| 189/189 [00:01<00:00, 111.23it/s]                                                                                \n",
      "28/40 Stage 1 - LogPopEnt 0.4: 100%|████████████████████| 189/189 [00:00<00:00, 380.17it/s]                                                                              \n",
      "rmse=0.828: 100%|████████████████████| 20/20 [00:08<00:00,  2.43it/s]                                                                                                    \n",
      "28/40 Stage 2 - MAB Problem: 100%|████████████████████| 189/189 [00:01<00:00, 160.13it/s]                                                                                \n",
      "29/40 Stage 1 - LogPopEnt 0.5: 100%|████████████████████| 189/189 [00:00<00:00, 230.01it/s]                                                                              \n",
      "rmse=0.826: 100%|████████████████████| 20/20 [00:09<00:00,  2.15it/s]                                                                                                    \n",
      "29/40 Stage 2 - MAB Problem: 100%|████████████████████| 189/189 [00:01<00:00, 127.33it/s]                                                                                \n",
      "30/40 Stage 1 - LogPopEnt 0.6: 100%|████████████████████| 189/189 [00:01<00:00, 158.47it/s]                                                                              \n",
      "rmse=0.820: 100%|████████████████████| 20/20 [00:08<00:00,  2.36it/s]                                                                                                    \n",
      "30/40 Stage 2 - MAB Problem: 100%|████████████████████| 189/189 [00:01<00:00, 127.62it/s]                                                                                \n",
      "31/40 Stage 1 - LogPopEnt 0.7: 100%|████████████████████| 189/189 [00:01<00:00, 129.51it/s]                                                                              \n",
      "rmse=0.820: 100%|████████████████████| 20/20 [00:10<00:00,  1.90it/s]                                                                                                    \n",
      "31/40 Stage 2 - MAB Problem: 100%|████████████████████| 189/189 [00:03<00:00, 60.63it/s]                                                                                 \n",
      "32/40 Stage 1 - LogPopEnt 0.8: 100%|████████████████████| 189/189 [00:02<00:00, 81.00it/s]                                                                               \n",
      "rmse=0.814: 100%|████████████████████| 20/20 [00:10<00:00,  1.87it/s]                                                                                                    \n",
      "32/40 Stage 2 - MAB Problem: 100%|████████████████████| 189/189 [00:02<00:00, 87.85it/s]                                                                                 \n"
     ]
    },
    {
     "name": "stderr",
     "output_type": "stream",
     "text": [
      "33/40 Stage 1 - Random 0.1: 100%|████████████████████| 189/189 [00:00<00:00, 324.46it/s]                                                                                 \n",
      "rmse=0.839: 100%|████████████████████| 20/20 [00:09<00:00,  2.15it/s]                                                                                                    \n",
      "33/40 Stage 2 - MAB Problem: 100%|████████████████████| 189/189 [00:01<00:00, 165.25it/s]                                                                                \n",
      "34/40 Stage 1 - Random 0.2: 100%|████████████████████| 189/189 [00:01<00:00, 153.35it/s]                                                                                 \n",
      "rmse=0.836: 100%|████████████████████| 20/20 [00:08<00:00,  2.27it/s]                                                                                                    \n",
      "34/40 Stage 2 - MAB Problem: 100%|████████████████████| 189/189 [00:00<00:00, 194.36it/s]                                                                                \n",
      "35/40 Stage 1 - Random 0.3: 100%|████████████████████| 189/189 [00:01<00:00, 110.81it/s]                                                                                 \n",
      "rmse=0.832: 100%|████████████████████| 20/20 [00:09<00:00,  2.13it/s]                                                                                                    \n",
      "35/40 Stage 2 - MAB Problem: 100%|████████████████████| 189/189 [00:01<00:00, 107.41it/s]                                                                                \n",
      "36/40 Stage 1 - Random 0.4: 100%|████████████████████| 189/189 [00:02<00:00, 73.20it/s]                                                                                  \n",
      "rmse=0.831: 100%|████████████████████| 20/20 [00:09<00:00,  2.06it/s]                                                                                                    \n",
      "36/40 Stage 2 - MAB Problem: 100%|████████████████████| 189/189 [00:02<00:00, 88.70it/s]                                                                                 \n",
      "37/40 Stage 1 - Random 0.5: 100%|████████████████████| 189/189 [00:02<00:00, 72.82it/s]                                                                                  \n",
      "rmse=0.828: 100%|████████████████████| 20/20 [00:07<00:00,  2.52it/s]                                                                                                    \n",
      "37/40 Stage 2 - MAB Problem: 100%|████████████████████| 189/189 [00:01<00:00, 123.61it/s]                                                                                \n",
      "38/40 Stage 1 - Random 0.6: 100%|████████████████████| 189/189 [00:03<00:00, 58.15it/s]                                                                                  \n",
      "rmse=0.824: 100%|████████████████████| 20/20 [00:09<00:00,  2.13it/s]                                                                                                    \n",
      "38/40 Stage 2 - MAB Problem: 100%|████████████████████| 189/189 [00:01<00:00, 103.50it/s]                                                                                \n",
      "39/40 Stage 1 - Random 0.7: 100%|████████████████████| 189/189 [00:03<00:00, 49.03it/s]                                                                                  \n",
      "rmse=0.820: 100%|████████████████████| 20/20 [00:09<00:00,  2.11it/s]                                                                                                    \n",
      "39/40 Stage 2 - MAB Problem: 100%|████████████████████| 189/189 [00:02<00:00, 75.35it/s]                                                                                 \n",
      "40/40 Stage 1 - Random 0.8: 100%|████████████████████| 189/189 [00:04<00:00, 39.72it/s]                                                                                  \n",
      "rmse=0.817: 100%|████████████████████| 20/20 [00:08<00:00,  2.31it/s]                                                                                                    \n",
      "40/40 Stage 2 - MAB Problem: 100%|████████████████████| 189/189 [00:01<00:00, 187.01it/s]                                                                                \n"
     ]
    },
    {
     "name": "stdout",
     "output_type": "stream",
     "text": [
      "\n",
      "Current Time: 500.87 seconds\n"
     ]
    }
   ],
   "source": [
    "interactions, action_info = eval_policy.evaluate(agent, train_dataset, test_dataset)"
   ]
  },
  {
   "cell_type": "code",
   "execution_count": 9,
   "metadata": {},
   "outputs": [
    {
     "data": {
      "text/plain": [
       "dict_keys(['BestRated', 'Entropy', 'Popularity', 'LogPopEnt', 'Random'])"
      ]
     },
     "execution_count": 9,
     "metadata": {},
     "output_type": "execute_result"
    }
   ],
   "source": [
    "interactions.keys()"
   ]
  },
  {
   "cell_type": "code",
   "execution_count": 10,
   "metadata": {},
   "outputs": [
    {
     "data": {
      "text/plain": [
       "dict_keys([0.1, 0.2, 0.3, 0.4, 0.5, 0.6, 0.7, 0.8])"
      ]
     },
     "execution_count": 10,
     "metadata": {},
     "output_type": "execute_result"
    }
   ],
   "source": [
    "interactions[\"BestRated\"].keys()"
   ]
  },
  {
   "cell_type": "code",
   "execution_count": 14,
   "metadata": {},
   "outputs": [
    {
     "data": {
      "text/plain": [
       "[[466, 2, [52, 101, 157, 719, 200, 321, 347, 112, 189, 239]],\n",
       " [471, 4, [719, 101, 200, 189, 239, 408, 161, 130, 52, 157]],\n",
       " [474, 2, [52, 161, 719, 200, 239, 297, 321, 408, 130, 1]],\n",
       " [475, 1, [357, 52, 101, 161, 719, 200, 157, 189, 408, 239]],\n",
       " [485, 14, [357, 200, 49, 101, 52, 130, 189, 239, 408, 161]],\n",
       " [492, 4, [719, 200, 239, 408, 130, 297, 321, 347, 156, 102]],\n",
       " [495, 1, [357, 719, 101, 200, 52, 1, 297, 239, 161, 31]],\n",
       " [503, 3, [101, 161, 719, 200, 347, 49, 24, 408, 102, 189]],\n",
       " [506, 3, [357, 52, 719, 200, 101, 408, 161, 189, 157, 130]],\n",
       " [510, 0, [157, 52, 101, 161, 189, 719, 200, 1, 31, 297]]]"
      ]
     },
     "execution_count": 14,
     "metadata": {},
     "output_type": "execute_result"
    }
   ],
   "source": [
    "interactions[\"BestRated\"][0.1][-10:]"
   ]
  }
 ],
 "metadata": {
  "kernelspec": {
   "display_name": "Python 3 (ipykernel)",
   "language": "python",
   "name": "python3"
  },
  "language_info": {
   "codemirror_mode": {
    "name": "ipython",
    "version": 3
   },
   "file_extension": ".py",
   "mimetype": "text/x-python",
   "name": "python",
   "nbconvert_exporter": "python",
   "pygments_lexer": "ipython3",
   "version": "3.8.10"
  }
 },
 "nbformat": 4,
 "nbformat_minor": 1
}
